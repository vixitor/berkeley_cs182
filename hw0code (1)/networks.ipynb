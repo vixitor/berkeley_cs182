{
 "cells": [
  {
   "cell_type": "markdown",
   "metadata": {
    "id": "BtMNN3c-PdkU"
   },
   "source": [
    "# Setup Environment\n",
    "\n",
    "If you are working on this assignment using Google Colab, please execute the codes below.\n",
    "\n",
    "Alternatively, you can also do this assignment using a local anaconda environment (or a Python virtualenv). Please clone the GitHub repo by running `git clone https://github.com/Berkeley-CS182/cs182fa23_public.git` cd to `cs182fa23_public/hw/hw1/code/networks/problem` and refer to `README.md` for further details."
   ]
  },
  {
   "cell_type": "code",
   "metadata": {
    "colab": {
     "base_uri": "https://localhost:8080/"
    },
    "id": "4vjm9qB3-yIM",
    "outputId": "a321a1de-30ad-4529-80ba-4798cb294550",
    "ExecuteTime": {
     "end_time": "2025-05-28T23:17:33.079682Z",
     "start_time": "2025-05-28T23:17:32.865538Z"
    }
   },
   "source": [
    "#@title Mount your Google Drive\n",
    "\n",
    "import os\n",
    "from google.colab import drive\n",
    "drive.mount('/content/gdrive')"
   ],
   "outputs": [
    {
     "ename": "ModuleNotFoundError",
     "evalue": "No module named 'google'",
     "output_type": "error",
     "traceback": [
      "\u001B[0;31m---------------------------------------------------------------------------\u001B[0m",
      "\u001B[0;31mModuleNotFoundError\u001B[0m                       Traceback (most recent call last)",
      "Cell \u001B[0;32mIn[1], line 4\u001B[0m\n\u001B[1;32m      1\u001B[0m \u001B[38;5;66;03m#@title Mount your Google Drive\u001B[39;00m\n\u001B[1;32m      3\u001B[0m \u001B[38;5;28;01mimport\u001B[39;00m \u001B[38;5;21;01mos\u001B[39;00m\n\u001B[0;32m----> 4\u001B[0m \u001B[38;5;28;01mfrom\u001B[39;00m \u001B[38;5;21;01mgoogle\u001B[39;00m\u001B[38;5;21;01m.\u001B[39;00m\u001B[38;5;21;01mcolab\u001B[39;00m \u001B[38;5;28;01mimport\u001B[39;00m drive\n\u001B[1;32m      5\u001B[0m drive\u001B[38;5;241m.\u001B[39mmount(\u001B[38;5;124m'\u001B[39m\u001B[38;5;124m/content/gdrive\u001B[39m\u001B[38;5;124m'\u001B[39m)\n",
      "\u001B[0;31mModuleNotFoundError\u001B[0m: No module named 'google'"
     ]
    }
   ],
   "execution_count": 1
  },
  {
   "cell_type": "code",
   "execution_count": null,
   "metadata": {
    "id": "1O6fSV0o_COV"
   },
   "outputs": [],
   "source": [
    "#@title Set up mount symlink\n",
    "REPO_NAME = 'cs182fa23_public'\n",
    "\n",
    "DRIVE_PATH = f'/content/gdrive/My\\ Drive/{REPO_NAME}'\n",
    "DRIVE_PYTHON_PATH = DRIVE_PATH.replace('\\\\', '')\n",
    "if not os.path.exists(DRIVE_PYTHON_PATH):\n",
    "  %mkdir $DRIVE_PATH\n",
    "\n",
    "## the space in `My Drive` causes some issues,\n",
    "## make a symlink to avoid this\n",
    "SYM_PATH = f'/content/{REPO_NAME}'\n",
    "if not os.path.exists(SYM_PATH):\n",
    "  !ln -s $DRIVE_PATH $SYM_PATH"
   ]
  },
  {
   "cell_type": "code",
   "execution_count": null,
   "metadata": {
    "colab": {
     "base_uri": "https://localhost:8080/"
    },
    "id": "t1vxtHpWLm2h",
    "outputId": "cbb574c3-02ec-4036-8cd4-eb93f70182d7"
   },
   "outputs": [],
   "source": [
    "#@title Install dependencies\n",
    "\n",
    "!pip install numpy==1.23.0 imageio==2.9.0 matplotlib==3.2.2"
   ]
  },
  {
   "cell_type": "code",
   "execution_count": null,
   "metadata": {
    "colab": {
     "base_uri": "https://localhost:8080/"
    },
    "id": "Y91O-kNH_Voh",
    "outputId": "9e7dda41-b51c-47db-935b-da8d69311686"
   },
   "outputs": [],
   "source": [
    "#@title Clone homework repo\n",
    "\n",
    "%cd $SYM_PATH\n",
    "if not os.path.exists(REPO_NAME):\n",
    "  !git clone https://github.com/Berkeley-CS182/cs182fa23_public.git\n",
    "%cd cs182fa23_public/hw/hw1/code/networks/problem"
   ]
  },
  {
   "cell_type": "code",
   "metadata": {
    "colab": {
     "base_uri": "https://localhost:8080/"
    },
    "id": "VySbxDdnB6Ng",
    "outputId": "d524b4e0-926b-419b-fd65-1930f46a3b30",
    "ExecuteTime": {
     "end_time": "2025-05-29T11:14:30.257561Z",
     "start_time": "2025-05-29T11:14:30.124918Z"
    }
   },
   "source": [
    "#@title Download datasets\n",
    "\n",
    "%cd deeplearning/datasets/\n",
    "!bash ./get_datasets.sh\n",
    "%cd ../.."
   ],
   "outputs": [
    {
     "name": "stdout",
     "output_type": "stream",
     "text": [
      "/Users/whe/Desktop/cs182/hw0code (1)/deeplearning/datasets\n",
      "./get_datasets.sh: line 2: wget: command not found\r\n",
      "tar: Error opening archive: Failed to open 'cifar-10-python.tar.gz'\r\n",
      "rm: cifar-10-python.tar.gz: No such file or directory\r\n",
      "/Users/whe/Desktop/cs182/hw0code (1)\n"
     ]
    }
   ],
   "execution_count": 1
  },
  {
   "cell_type": "code",
   "metadata": {
    "id": "pUR1MUuVA4Cs",
    "ExecuteTime": {
     "end_time": "2025-05-29T11:14:33.768618Z",
     "start_time": "2025-05-29T11:14:33.367084Z"
    }
   },
   "source": [
    "#@title Configure Jupyter Notebook\n",
    "\n",
    "import matplotlib\n",
    "%matplotlib inline\n",
    "%load_ext autoreload\n",
    "%autoreload 2\n"
   ],
   "outputs": [],
   "execution_count": 2
  },
  {
   "cell_type": "markdown",
   "metadata": {
    "id": "YybdAopk-mvQ"
   },
   "source": [
    "# Fully-Connected Neural Nets\n",
    "\n",
    "In this notebook we will implement fully-connected networks using a modular approach. For each layer we will implement a `forward` and a `backward` function. The `forward` function will receive inputs, weights, and other parameters and will return both an output and a `cache` object storing data needed for the backward pass, like this:\n",
    "\n",
    "```python\n",
    "def layer_forward(x, w):\n",
    "  \"\"\" Receive inputs x and weights w \"\"\"\n",
    "  # Do some computations ...\n",
    "  z = # ... some intermediate value\n",
    "  # Do some more computations ...\n",
    "  out = # the output\n",
    "   \n",
    "  cache = (x, w, z, out) # Values we need to compute gradients\n",
    "  \n",
    "  return out, cache\n",
    "```\n",
    "\n",
    "The backward pass will receive upstream derivatives and the `cache` object, and will return gradients with respect to the inputs and weights, like this:\n",
    "\n",
    "```python\n",
    "def layer_backward(dout, cache):\n",
    "  \"\"\"\n",
    "  Receive derivative of loss with respect to outputs and cache,\n",
    "  and compute derivative with respect to inputs.\n",
    "  \"\"\"\n",
    "  # Unpack cache values\n",
    "  x, w, z, out = cache\n",
    "  \n",
    "  # Use values in cache to compute derivatives\n",
    "  dx = # Derivative of loss with respect to x\n",
    "  dw = # Derivative of loss with respect to w\n",
    "  \n",
    "  return dx, dw\n",
    "```\n",
    "\n",
    "After implementing a bunch of layers this way, we will be able to easily combine them to build classifiers with different architectures."
   ]
  },
  {
   "cell_type": "code",
   "metadata": {
    "id": "5rY3whPq-mvT",
    "ExecuteTime": {
     "end_time": "2025-05-29T11:14:37.870076Z",
     "start_time": "2025-05-29T11:14:37.839851Z"
    }
   },
   "source": [
    "# As usual, a bit of setup\n",
    "\n",
    "import time\n",
    "import numpy as np\n",
    "import matplotlib.pyplot as plt\n",
    "from deeplearning.classifiers.fc_net import *\n",
    "from deeplearning.data_utils import get_CIFAR10_data\n",
    "from deeplearning.gradient_check import eval_numerical_gradient, eval_numerical_gradient_array\n",
    "from deeplearning.solver import Solver\n",
    "\n",
    "plt.rcParams['figure.figsize'] = (10.0, 8.0) # set default size of plots\n",
    "plt.rcParams['image.interpolation'] = 'nearest'\n",
    "plt.rcParams['image.cmap'] = 'gray'\n",
    "\n",
    "# for auto-reloading external modules\n",
    "# see http://stackoverflow.com/questions/1907993/autoreload-of-modules-in-ipython\n",
    "\n",
    "def rel_error(x, y):\n",
    "    \"\"\" returns relative error \"\"\"\n",
    "    return np.max(np.abs(x - y) / (np.maximum(1e-8, np.abs(x) + np.abs(y))))"
   ],
   "outputs": [],
   "execution_count": 3
  },
  {
   "cell_type": "code",
   "metadata": {
    "colab": {
     "base_uri": "https://localhost:8080/"
    },
    "id": "Hx39aHp5-mvU",
    "outputId": "c308158c-16de-40cc-dfe9-ec35959f7de1",
    "ExecuteTime": {
     "end_time": "2025-05-29T11:14:41.776355Z",
     "start_time": "2025-05-29T11:14:40.050771Z"
    }
   },
   "source": [
    "# Lddoad the (preprocessed) CIFAR10 data.\n",
    "\n",
    "data = get_CIFAR10_data()\n",
    "for k, v in data.items():\n",
    "    print('%s: ' % k, v.shape)"
   ],
   "outputs": [
    {
     "name": "stdout",
     "output_type": "stream",
     "text": [
      "deeplearning/datasets/cifar-10-batches-py/data_batch_1\n",
      "deeplearning/datasets/cifar-10-batches-py/data_batch_2\n",
      "deeplearning/datasets/cifar-10-batches-py/data_batch_3\n",
      "deeplearning/datasets/cifar-10-batches-py/data_batch_4\n",
      "deeplearning/datasets/cifar-10-batches-py/data_batch_5\n",
      "deeplearning/datasets/cifar-10-batches-py/test_batch\n",
      "X_train:  (49000, 3, 32, 32)\n",
      "y_train:  (49000,)\n",
      "X_val:  (1000, 3, 32, 32)\n",
      "y_val:  (1000,)\n",
      "X_test:  (1000, 3, 32, 32)\n",
      "y_test:  (1000,)\n"
     ]
    }
   ],
   "execution_count": 4
  },
  {
   "cell_type": "markdown",
   "metadata": {
    "id": "YxQO9UBq-mvU"
   },
   "source": [
    "# Affine layer: forward\n",
    "Open the file `deeplearning/layers.py` and implement the `affine_forward` function.\n",
    "\n",
    "Once you are done you can test your implementaion by running the following:"
   ]
  },
  {
   "cell_type": "code",
   "metadata": {
    "colab": {
     "base_uri": "https://localhost:8080/"
    },
    "id": "wKjg1INq-mvU",
    "outputId": "1111171e-bfd5-4ba7-9833-dd0d9178e872",
    "ExecuteTime": {
     "end_time": "2025-05-29T11:14:45.227316Z",
     "start_time": "2025-05-29T11:14:45.212455Z"
    }
   },
   "source": [
    "# Test the affine_forward function\n",
    "\n",
    "num_inputs = 2\n",
    "input_shape = (4, 5, 6)\n",
    "output_dim = 3\n",
    "\n",
    "input_size = num_inputs * np.prod(input_shape)\n",
    "weight_size = output_dim * np.prod(input_shape)\n",
    "\n",
    "x = np.linspace(-0.1, 0.5, num=input_size).reshape(num_inputs, *input_shape)\n",
    "w = np.linspace(-0.2, 0.3, num=weight_size).reshape(np.prod(input_shape), output_dim)\n",
    "b = np.linspace(-0.3, 0.1, num=output_dim)\n",
    "\n",
    "out, _ = affine_forward(x, w, b)\n",
    "correct_out = np.array([[ 1.49834967,  1.70660132,  1.91485297],\n",
    "                        [ 3.25553199,  3.5141327,   3.77273342]])\n",
    "\n",
    "# Compare your output with ours. The error should be around 1e-9.\n",
    "print('Testing affine_forward function:')\n",
    "print('difference: ', rel_error(out, correct_out))"
   ],
   "outputs": [
    {
     "name": "stdout",
     "output_type": "stream",
     "text": [
      "Testing affine_forward function:\n",
      "difference:  9.769849468192957e-10\n"
     ]
    }
   ],
   "execution_count": 6
  },
  {
   "cell_type": "markdown",
   "metadata": {
    "id": "SZmNs2sS-mvU"
   },
   "source": [
    "# Affine layer: backward\n",
    "Now implement the `affine_backward` function and test your implementation using numeric gradient checking."
   ]
  },
  {
   "cell_type": "code",
   "metadata": {
    "colab": {
     "base_uri": "https://localhost:8080/"
    },
    "id": "NSlcsBNY-mvV",
    "outputId": "35dd9b64-8bcd-4e27-9859-a8b49de1a2e7",
    "ExecuteTime": {
     "end_time": "2025-05-29T11:14:47.417458Z",
     "start_time": "2025-05-29T11:14:47.400391Z"
    }
   },
   "source": [
    "# Test the affine_backward function\n",
    "\n",
    "x = np.random.randn(10, 2, 3)\n",
    "w = np.random.randn(6, 5)\n",
    "b = np.random.randn(5)\n",
    "dout = np.random.randn(10, 5)\n",
    "\n",
    "dx_num = eval_numerical_gradient_array(lambda x: affine_forward(x, w, b)[0], x, dout)\n",
    "dw_num = eval_numerical_gradient_array(lambda w: affine_forward(x, w, b)[0], w, dout)\n",
    "db_num = eval_numerical_gradient_array(lambda b: affine_forward(x, w, b)[0], b, dout)\n",
    "\n",
    "_, cache = affine_forward(x, w, b)\n",
    "dx, dw, db = affine_backward(dout, cache)\n",
    "# The error should be around 1e-10\n",
    "print('Testing affine_backward function:')\n",
    "print('dx error: ', rel_error(dx_num, dx))\n",
    "print('dw error: ', rel_error(dw_num, dw))\n",
    "print('db error: ', rel_error(db_num, db))"
   ],
   "outputs": [
    {
     "name": "stdout",
     "output_type": "stream",
     "text": [
      "Testing affine_backward function:\n",
      "dx error:  1.0014324505332067e-09\n",
      "dw error:  3.3985249079143684e-10\n",
      "db error:  4.752952320836708e-12\n"
     ]
    }
   ],
   "execution_count": 7
  },
  {
   "cell_type": "markdown",
   "metadata": {
    "id": "vzIyC-vm-mvV"
   },
   "source": [
    "# ReLU layer: forward\n",
    "Implement the forward pass for the ReLU activation function in the `relu_forward` function and test your implementation using the following:"
   ]
  },
  {
   "cell_type": "code",
   "metadata": {
    "colab": {
     "base_uri": "https://localhost:8080/"
    },
    "id": "FVp_m32X-mvW",
    "outputId": "6d485d62-a0a7-4b66-cdb3-b04ca1dd6407",
    "ExecuteTime": {
     "end_time": "2025-05-29T11:14:49.720888Z",
     "start_time": "2025-05-29T11:14:49.708417Z"
    }
   },
   "source": [
    "# Test the relu_forward function\n",
    "\n",
    "x = np.linspace(-0.5, 0.5, num=12).reshape(3, 4)\n",
    "\n",
    "out, _ = relu_forward(x)\n",
    "correct_out = np.array([[ 0.,          0.,          0.,          0.,        ],\n",
    "                        [ 0.,          0.,          0.04545455,  0.13636364,],\n",
    "                        [ 0.22727273,  0.31818182,  0.40909091,  0.5,       ]])\n",
    "\n",
    "# Compare your output with ours. The error should be around 1e-8\n",
    "print('Testing relu_forward function:')\n",
    "print('difference: ', rel_error(out, correct_out))"
   ],
   "outputs": [
    {
     "name": "stdout",
     "output_type": "stream",
     "text": [
      "Testing relu_forward function:\n",
      "difference:  4.999999798022158e-08\n"
     ]
    }
   ],
   "execution_count": 8
  },
  {
   "cell_type": "markdown",
   "metadata": {
    "id": "0lFnqSVx-mvW"
   },
   "source": [
    "# ReLU layer: backward\n",
    "Now implement the backward pass for the ReLU activation function in the `relu_backward` function and test your implementation using numeric gradient checking. Note that the ReLU activation is not differentiable at 0, but typically we don't worry about this and simply assign either 0 or 1 as the derivative by convention."
   ]
  },
  {
   "cell_type": "code",
   "metadata": {
    "colab": {
     "base_uri": "https://localhost:8080/"
    },
    "id": "HO4dcVkF-mvW",
    "outputId": "ef38a98e-6acf-406d-8326-5f5c5321fedf",
    "ExecuteTime": {
     "end_time": "2025-05-29T11:14:52.526447Z",
     "start_time": "2025-05-29T11:14:52.514073Z"
    }
   },
   "source": [
    "x = np.random.randn(10, 10)\n",
    "dout = np.random.randn(*x.shape)\n",
    "\n",
    "dx_num = eval_numerical_gradient_array(lambda x: relu_forward(x)[0], x, dout)\n",
    "\n",
    "_, cache = relu_forward(x)\n",
    "dx = relu_backward(dout, cache)\n",
    "\n",
    "# The error should be around 1e-12\n",
    "print('Testing relu_backward function:')\n",
    "print('dx error: ', rel_error(dx_num, dx))"
   ],
   "outputs": [
    {
     "name": "stdout",
     "output_type": "stream",
     "text": [
      "Testing relu_backward function:\n",
      "dx error:  3.2756323395679927e-12\n"
     ]
    }
   ],
   "execution_count": 9
  },
  {
   "cell_type": "markdown",
   "metadata": {
    "id": "FMGbkcFm-mvX"
   },
   "source": [
    "# \"Sandwich\" layers\n",
    "There are some common patterns of layers that are frequently used in neural nets. For example, affine layers are frequently followed by a ReLU nonlinearity. To make these common patterns easy, we define several convenience layers in the file `deeplearning/layer_utils.py`.\n",
    "\n",
    "For now take a look at the `affine_relu_forward` and `affine_relu_backward` functions, and run the following to numerically gradient check the backward pass:"
   ]
  },
  {
   "cell_type": "code",
   "metadata": {
    "colab": {
     "base_uri": "https://localhost:8080/"
    },
    "id": "W5helswW-mvX",
    "outputId": "1c3bc805-30b0-4f76-9853-c9f7e4772079",
    "ExecuteTime": {
     "end_time": "2025-05-29T11:14:54.467228Z",
     "start_time": "2025-05-29T11:14:54.450979Z"
    }
   },
   "source": [
    "from deeplearning.layer_utils import affine_relu_forward, affine_relu_backward\n",
    "\n",
    "x = np.random.randn(2, 3, 4)\n",
    "w = np.random.randn(12, 10)\n",
    "b = np.random.randn(10)\n",
    "dout = np.random.randn(2, 10)\n",
    "\n",
    "out, cache = affine_relu_forward(x, w, b)\n",
    "dx, dw, db = affine_relu_backward(dout, cache)\n",
    "\n",
    "dx_num = eval_numerical_gradient_array(lambda x: affine_relu_forward(x, w, b)[0], x, dout)\n",
    "dw_num = eval_numerical_gradient_array(lambda w: affine_relu_forward(x, w, b)[0], w, dout)\n",
    "db_num = eval_numerical_gradient_array(lambda b: affine_relu_forward(x, w, b)[0], b, dout)\n",
    "\n",
    "print('Testing affine_relu_forward:')\n",
    "print('dx error: ', rel_error(dx_num, dx))\n",
    "print('dw error: ', rel_error(dw_num, dw))\n",
    "print('db error: ', rel_error(db_num, db))"
   ],
   "outputs": [
    {
     "name": "stdout",
     "output_type": "stream",
     "text": [
      "Testing affine_relu_forward:\n",
      "dx error:  7.34559828185319e-08\n",
      "dw error:  1.141262039746055e-09\n",
      "db error:  1.0875798473680068e-11\n"
     ]
    }
   ],
   "execution_count": 10
  },
  {
   "cell_type": "markdown",
   "metadata": {
    "id": "IX09N9oU-mvX"
   },
   "source": [
    "# Loss layers: Softmax and SVM\n",
    "Here we provide two loss functions that we will use to train our deep neural networks. You should understand how they work by looking at the implementations in `deeplearning/layers.py`.\n",
    "\n",
    "You can make sure that the implementations are correct by running the following:"
   ]
  },
  {
   "cell_type": "code",
   "metadata": {
    "colab": {
     "base_uri": "https://localhost:8080/"
    },
    "id": "g4dcun9X-mvX",
    "outputId": "1495020d-fb7c-4668-a05a-723c03195e6c",
    "ExecuteTime": {
     "end_time": "2025-05-29T11:14:56.785316Z",
     "start_time": "2025-05-29T11:14:56.730306Z"
    }
   },
   "source": [
    "num_classes, num_inputs = 10, 50\n",
    "x = 0.001 * np.random.randn(num_inputs, num_classes)\n",
    "y = np.random.randint(num_classes, size=num_inputs)\n",
    "\n",
    "dx_num = eval_numerical_gradient(lambda x: svm_loss(x, y)[0], x, verbose=False)\n",
    "loss, dx = svm_loss(x, y)\n",
    "\n",
    "# Test svm_loss function. Loss should be around 9 and dx error should be 1e-9\n",
    "print('Testing svm_loss:')\n",
    "print('loss: ', loss)\n",
    "print('dx error: ', rel_error(dx_num, dx))\n",
    "\n",
    "dx_num = eval_numerical_gradient(lambda x: softmax_loss(x, y)[0], x, verbose=False)\n",
    "loss, dx = softmax_loss(x, y)\n",
    "\n",
    "# Test softmax_loss function. Loss should be 2.3 and dx error should be 1e-8\n",
    "print('\\nTesting softmax_loss:')\n",
    "print('loss: ', loss)\n",
    "print('dx error: ', rel_error(dx_num, dx))"
   ],
   "outputs": [
    {
     "name": "stdout",
     "output_type": "stream",
     "text": [
      "Testing svm_loss:\n",
      "loss:  8.999175472570773\n",
      "dx error:  1.4021566006651672e-09\n",
      "\n",
      "Testing softmax_loss:\n",
      "loss:  2.3025030978717886\n",
      "dx error:  9.436790382986344e-09\n"
     ]
    }
   ],
   "execution_count": 11
  },
  {
   "cell_type": "markdown",
   "metadata": {
    "id": "-YbkT7kZ-mvY"
   },
   "source": [
    "# Two-layer network\n",
    "\n",
    "Open the file `deeplearning/classifiers/fc_net.py` and complete the implementation of the `TwoLayerNet` class. This class will serve as a model for the other networks you will implement in this assignment, so read through it to make sure you understand the API. Run the cell below to test your implementation."
   ]
  },
  {
   "cell_type": "code",
   "metadata": {
    "colab": {
     "base_uri": "https://localhost:8080/"
    },
    "id": "YW5b1kBz-mvY",
    "outputId": "7c2f4004-d226-42ff-ac72-c547d153421a",
    "ExecuteTime": {
     "end_time": "2025-05-29T11:21:54.006208Z",
     "start_time": "2025-05-29T11:21:53.710673Z"
    }
   },
   "source": [
    "N, D, H, C = 3, 5, 50, 7\n",
    "X = np.random.randn(N, D)\n",
    "y = np.random.randint(C, size=N)\n",
    "\n",
    "std = 1e-2\n",
    "model = TwoLayerNet(input_dim=D, hidden_dim=H, num_classes=C, weight_scale=std)\n",
    "\n",
    "print ('Testing initialization ... ')\n",
    "W1_std = abs(model.params['W1'].std() - std)\n",
    "b1 = model.params['b1']\n",
    "W2_std = abs(model.params['W2'].std() - std)\n",
    "b2 = model.params['b2']\n",
    "assert W1_std < std / 10, 'First layer weights do not seem right'\n",
    "assert np.all(b1 == 0), 'First layer biases do not seem right'\n",
    "assert W2_std < std / 10, 'Second layer weights do not seem right'\n",
    "assert np.all(b2 == 0), 'Second layer biases do not seem right'\n",
    "\n",
    "print ('Testing test-time forward pass ... ')\n",
    "model.params['W1'] = np.linspace(-0.7, 0.3, num=D*H).reshape(D, H)\n",
    "model.params['b1'] = np.linspace(-0.1, 0.9, num=H)\n",
    "model.params['W2'] = np.linspace(-0.3, 0.4, num=H*C).reshape(H, C)\n",
    "model.params['b2'] = np.linspace(-0.9, 0.1, num=C)\n",
    "X = np.linspace(-5.5, 4.5, num=N*D).reshape(D, N).T\n",
    "scores = model.loss(X)\n",
    "correct_scores = np.asarray(\n",
    "  [[11.53165108,  12.2917344,   13.05181771,  13.81190102,  14.57198434, 15.33206765,  16.09215096],\n",
    "   [12.05769098,  12.74614105,  13.43459113,  14.1230412,   14.81149128, 15.49994135,  16.18839143],\n",
    "   [12.58373087,  13.20054771,  13.81736455,  14.43418138,  15.05099822, 15.66781506,  16.2846319 ]])\n",
    "scores_diff = np.abs(scores - correct_scores).sum()\n",
    "assert scores_diff < 1e-6, 'Problem with test-time forward pass'\n",
    "\n",
    "print ('Testing training loss (no regularization)')\n",
    "y = np.asarray([0, 5, 1])\n",
    "loss, grads = model.loss(X, y)\n",
    "correct_loss = 3.4702243556\n",
    "assert abs(loss - correct_loss) < 1e-10, 'Problem with training-time loss'\n",
    "\n",
    "model.reg = 1.0\n",
    "loss, grads = model.loss(X, y)\n",
    "correct_loss = 26.5948426952\n",
    "assert abs(loss - correct_loss) < 1e-10, 'Problem with regularization loss'\n",
    "\n",
    "for reg in [0.0, 0.7]:\n",
    "    print ('Running numeric gradient check with reg = ', reg)\n",
    "    model.reg = reg\n",
    "    loss, grads = model.loss(X, y)\n",
    "\n",
    "    for name in sorted(grads):\n",
    "        f = lambda _: model.loss(X, y)[0]\n",
    "        grad_num = eval_numerical_gradient(f, model.params[name], verbose=False)\n",
    "        print ('%s relative error: %.2e' % (name, rel_error(grad_num, grads[name])))"
   ],
   "outputs": [
    {
     "name": "stdout",
     "output_type": "stream",
     "text": [
      "Testing initialization ... \n",
      "Testing test-time forward pass ... \n",
      "Testing training loss (no regularization)\n",
      "Running numeric gradient check with reg =  0.0\n",
      "W1 relative error: 1.52e-08\n",
      "W2 relative error: 3.21e-10\n",
      "b1 relative error: 8.37e-09\n",
      "b2 relative error: 4.33e-10\n",
      "Running numeric gradient check with reg =  0.7\n",
      "W1 relative error: 2.53e-07\n",
      "W2 relative error: 2.85e-08\n",
      "b1 relative error: 1.56e-08\n",
      "b2 relative error: 7.76e-10\n"
     ]
    }
   ],
   "execution_count": 17
  },
  {
   "cell_type": "markdown",
   "metadata": {
    "id": "yVHZ1jBn-mvY"
   },
   "source": [
    "# Solver\n",
    "Following a modular design, for this assignment we have split the logic for training models into a separate class from the models themselves.\n",
    "\n",
    "Open the file `deeplearning/solver.py` and read through it to familiarize yourself with the API. After doing so, use a `Solver` instance to train a `TwoLayerNet` that achieves at least `50%` accuracy on the validation set."
   ]
  },
  {
   "cell_type": "code",
   "metadata": {
    "colab": {
     "base_uri": "https://localhost:8080/"
    },
    "id": "60ll4Dnl-mvY",
    "outputId": "9514c284-2145-4add-f71e-5ce9158d1358",
    "ExecuteTime": {
     "end_time": "2025-05-29T11:37:10.989466Z",
     "start_time": "2025-05-29T11:36:32.627709Z"
    }
   },
   "source": [
    "model = TwoLayerNet()\n",
    "solver = Solver(model, data)\n",
    "solver.train()\n",
    "print(solver.check_accuracy(data['X_test'], data['y_test']))\n",
    "\n",
    "##############################################################################\n",
    "# TODO: Use a Solver instance to train a TwoLayerNet that achieves at least  #\n",
    "# 50% accuracy on the validation set.                                        #\n",
    "##############################################################################\n",
    "##############################################################################\n",
    "#                             END OF YOUR CODE                               #\n",
    "##############################################################################"
   ],
   "outputs": [
    {
     "name": "stdout",
     "output_type": "stream",
     "text": [
      "(Iteration 1 / 4900) loss: 2.302111\n",
      "(Epoch 0 / 10) train acc: 0.139000; val_acc: 0.137000\n"
     ]
    },
    {
     "name": "stderr",
     "output_type": "stream",
     "text": [
      "/Users/whe/Desktop/cs182/hw0code (1)/deeplearning/layers.py:150: RuntimeWarning: divide by zero encountered in log\n",
      "  loss = -np.sum(np.log(probs[np.arange(N), y])) / N\n"
     ]
    },
    {
     "name": "stdout",
     "output_type": "stream",
     "text": [
      "(Iteration 11 / 4900) loss: inf\n",
      "(Iteration 21 / 4900) loss: inf\n",
      "(Iteration 31 / 4900) loss: inf\n",
      "(Iteration 41 / 4900) loss: inf\n",
      "(Iteration 51 / 4900) loss: inf\n",
      "(Iteration 61 / 4900) loss: inf\n",
      "(Iteration 71 / 4900) loss: inf\n",
      "(Iteration 81 / 4900) loss: inf\n",
      "(Iteration 91 / 4900) loss: inf\n",
      "(Iteration 101 / 4900) loss: inf\n",
      "(Iteration 111 / 4900) loss: inf\n",
      "(Iteration 121 / 4900) loss: inf\n",
      "(Iteration 131 / 4900) loss: inf\n",
      "(Iteration 141 / 4900) loss: inf\n",
      "(Iteration 151 / 4900) loss: inf\n",
      "(Iteration 161 / 4900) loss: inf\n",
      "(Iteration 171 / 4900) loss: inf\n",
      "(Iteration 181 / 4900) loss: inf\n",
      "(Iteration 191 / 4900) loss: inf\n",
      "(Iteration 201 / 4900) loss: inf\n",
      "(Iteration 211 / 4900) loss: inf\n",
      "(Iteration 221 / 4900) loss: inf\n",
      "(Iteration 231 / 4900) loss: inf\n",
      "(Iteration 241 / 4900) loss: inf\n",
      "(Iteration 251 / 4900) loss: inf\n",
      "(Iteration 261 / 4900) loss: inf\n",
      "(Iteration 271 / 4900) loss: inf\n",
      "(Iteration 281 / 4900) loss: inf\n",
      "(Iteration 291 / 4900) loss: inf\n"
     ]
    },
    {
     "name": "stderr",
     "output_type": "stream",
     "text": [
      "/Users/whe/Desktop/cs182/hw0code (1)/deeplearning/layers.py:147: RuntimeWarning: overflow encountered in subtract\n",
      "  probs = np.exp(x - np.max(x, axis=1, keepdims=True))\n",
      "/Users/whe/Desktop/cs182/hw0code (1)/deeplearning/layers.py:147: RuntimeWarning: invalid value encountered in subtract\n",
      "  probs = np.exp(x - np.max(x, axis=1, keepdims=True))\n"
     ]
    },
    {
     "name": "stdout",
     "output_type": "stream",
     "text": [
      "(Iteration 301 / 4900) loss: inf\n",
      "(Iteration 311 / 4900) loss: nan\n",
      "(Iteration 321 / 4900) loss: nan\n",
      "(Iteration 331 / 4900) loss: nan\n",
      "(Iteration 341 / 4900) loss: nan\n",
      "(Iteration 351 / 4900) loss: nan\n",
      "(Iteration 361 / 4900) loss: nan\n",
      "(Iteration 371 / 4900) loss: nan\n",
      "(Iteration 381 / 4900) loss: nan\n",
      "(Iteration 391 / 4900) loss: nan\n",
      "(Iteration 401 / 4900) loss: nan\n",
      "(Iteration 411 / 4900) loss: nan\n",
      "(Iteration 421 / 4900) loss: nan\n",
      "(Iteration 431 / 4900) loss: nan\n",
      "(Iteration 441 / 4900) loss: nan\n",
      "(Iteration 451 / 4900) loss: nan\n",
      "(Iteration 461 / 4900) loss: nan\n",
      "(Iteration 471 / 4900) loss: nan\n",
      "(Iteration 481 / 4900) loss: nan\n",
      "(Epoch 1 / 10) train acc: 0.105000; val_acc: 0.087000\n",
      "(Iteration 491 / 4900) loss: nan\n",
      "(Iteration 501 / 4900) loss: nan\n",
      "(Iteration 511 / 4900) loss: nan\n",
      "(Iteration 521 / 4900) loss: nan\n",
      "(Iteration 531 / 4900) loss: nan\n",
      "(Iteration 541 / 4900) loss: nan\n",
      "(Iteration 551 / 4900) loss: nan\n",
      "(Iteration 561 / 4900) loss: nan\n",
      "(Iteration 571 / 4900) loss: nan\n",
      "(Iteration 581 / 4900) loss: nan\n",
      "(Iteration 591 / 4900) loss: nan\n",
      "(Iteration 601 / 4900) loss: nan\n",
      "(Iteration 611 / 4900) loss: nan\n",
      "(Iteration 621 / 4900) loss: nan\n",
      "(Iteration 631 / 4900) loss: nan\n",
      "(Iteration 641 / 4900) loss: nan\n",
      "(Iteration 651 / 4900) loss: nan\n",
      "(Iteration 661 / 4900) loss: nan\n",
      "(Iteration 671 / 4900) loss: nan\n",
      "(Iteration 681 / 4900) loss: nan\n",
      "(Iteration 691 / 4900) loss: nan\n",
      "(Iteration 701 / 4900) loss: nan\n",
      "(Iteration 711 / 4900) loss: nan\n",
      "(Iteration 721 / 4900) loss: nan\n",
      "(Iteration 731 / 4900) loss: nan\n",
      "(Iteration 741 / 4900) loss: nan\n",
      "(Iteration 751 / 4900) loss: nan\n",
      "(Iteration 761 / 4900) loss: nan\n",
      "(Iteration 771 / 4900) loss: nan\n",
      "(Iteration 781 / 4900) loss: nan\n",
      "(Iteration 791 / 4900) loss: nan\n",
      "(Iteration 801 / 4900) loss: nan\n",
      "(Iteration 811 / 4900) loss: nan\n",
      "(Iteration 821 / 4900) loss: nan\n",
      "(Iteration 831 / 4900) loss: nan\n",
      "(Iteration 841 / 4900) loss: nan\n",
      "(Iteration 851 / 4900) loss: nan\n",
      "(Iteration 861 / 4900) loss: nan\n",
      "(Iteration 871 / 4900) loss: nan\n",
      "(Iteration 881 / 4900) loss: nan\n",
      "(Iteration 891 / 4900) loss: nan\n",
      "(Iteration 901 / 4900) loss: nan\n",
      "(Iteration 911 / 4900) loss: nan\n",
      "(Iteration 921 / 4900) loss: nan\n",
      "(Iteration 931 / 4900) loss: nan\n",
      "(Iteration 941 / 4900) loss: nan\n",
      "(Iteration 951 / 4900) loss: nan\n",
      "(Iteration 961 / 4900) loss: nan\n",
      "(Iteration 971 / 4900) loss: nan\n",
      "(Epoch 2 / 10) train acc: 0.105000; val_acc: 0.087000\n",
      "(Iteration 981 / 4900) loss: nan\n",
      "(Iteration 991 / 4900) loss: nan\n",
      "(Iteration 1001 / 4900) loss: nan\n",
      "(Iteration 1011 / 4900) loss: nan\n",
      "(Iteration 1021 / 4900) loss: nan\n",
      "(Iteration 1031 / 4900) loss: nan\n",
      "(Iteration 1041 / 4900) loss: nan\n",
      "(Iteration 1051 / 4900) loss: nan\n",
      "(Iteration 1061 / 4900) loss: nan\n",
      "(Iteration 1071 / 4900) loss: nan\n",
      "(Iteration 1081 / 4900) loss: nan\n",
      "(Iteration 1091 / 4900) loss: nan\n",
      "(Iteration 1101 / 4900) loss: nan\n",
      "(Iteration 1111 / 4900) loss: nan\n",
      "(Iteration 1121 / 4900) loss: nan\n",
      "(Iteration 1131 / 4900) loss: nan\n",
      "(Iteration 1141 / 4900) loss: nan\n",
      "(Iteration 1151 / 4900) loss: nan\n",
      "(Iteration 1161 / 4900) loss: nan\n",
      "(Iteration 1171 / 4900) loss: nan\n",
      "(Iteration 1181 / 4900) loss: nan\n",
      "(Iteration 1191 / 4900) loss: nan\n",
      "(Iteration 1201 / 4900) loss: nan\n",
      "(Iteration 1211 / 4900) loss: nan\n",
      "(Iteration 1221 / 4900) loss: nan\n",
      "(Iteration 1231 / 4900) loss: nan\n",
      "(Iteration 1241 / 4900) loss: nan\n",
      "(Iteration 1251 / 4900) loss: nan\n",
      "(Iteration 1261 / 4900) loss: nan\n",
      "(Iteration 1271 / 4900) loss: nan\n",
      "(Iteration 1281 / 4900) loss: nan\n",
      "(Iteration 1291 / 4900) loss: nan\n",
      "(Iteration 1301 / 4900) loss: nan\n",
      "(Iteration 1311 / 4900) loss: nan\n",
      "(Iteration 1321 / 4900) loss: nan\n",
      "(Iteration 1331 / 4900) loss: nan\n",
      "(Iteration 1341 / 4900) loss: nan\n",
      "(Iteration 1351 / 4900) loss: nan\n",
      "(Iteration 1361 / 4900) loss: nan\n",
      "(Iteration 1371 / 4900) loss: nan\n",
      "(Iteration 1381 / 4900) loss: nan\n",
      "(Iteration 1391 / 4900) loss: nan\n",
      "(Iteration 1401 / 4900) loss: nan\n",
      "(Iteration 1411 / 4900) loss: nan\n",
      "(Iteration 1421 / 4900) loss: nan\n",
      "(Iteration 1431 / 4900) loss: nan\n",
      "(Iteration 1441 / 4900) loss: nan\n",
      "(Iteration 1451 / 4900) loss: nan\n",
      "(Iteration 1461 / 4900) loss: nan\n",
      "(Epoch 3 / 10) train acc: 0.107000; val_acc: 0.087000\n",
      "(Iteration 1471 / 4900) loss: nan\n",
      "(Iteration 1481 / 4900) loss: nan\n",
      "(Iteration 1491 / 4900) loss: nan\n",
      "(Iteration 1501 / 4900) loss: nan\n",
      "(Iteration 1511 / 4900) loss: nan\n",
      "(Iteration 1521 / 4900) loss: nan\n",
      "(Iteration 1531 / 4900) loss: nan\n",
      "(Iteration 1541 / 4900) loss: nan\n",
      "(Iteration 1551 / 4900) loss: nan\n",
      "(Iteration 1561 / 4900) loss: nan\n",
      "(Iteration 1571 / 4900) loss: nan\n",
      "(Iteration 1581 / 4900) loss: nan\n",
      "(Iteration 1591 / 4900) loss: nan\n",
      "(Iteration 1601 / 4900) loss: nan\n",
      "(Iteration 1611 / 4900) loss: nan\n",
      "(Iteration 1621 / 4900) loss: nan\n",
      "(Iteration 1631 / 4900) loss: nan\n",
      "(Iteration 1641 / 4900) loss: nan\n",
      "(Iteration 1651 / 4900) loss: nan\n",
      "(Iteration 1661 / 4900) loss: nan\n",
      "(Iteration 1671 / 4900) loss: nan\n",
      "(Iteration 1681 / 4900) loss: nan\n",
      "(Iteration 1691 / 4900) loss: nan\n",
      "(Iteration 1701 / 4900) loss: nan\n",
      "(Iteration 1711 / 4900) loss: nan\n",
      "(Iteration 1721 / 4900) loss: nan\n",
      "(Iteration 1731 / 4900) loss: nan\n",
      "(Iteration 1741 / 4900) loss: nan\n",
      "(Iteration 1751 / 4900) loss: nan\n",
      "(Iteration 1761 / 4900) loss: nan\n",
      "(Iteration 1771 / 4900) loss: nan\n",
      "(Iteration 1781 / 4900) loss: nan\n",
      "(Iteration 1791 / 4900) loss: nan\n",
      "(Iteration 1801 / 4900) loss: nan\n",
      "(Iteration 1811 / 4900) loss: nan\n",
      "(Iteration 1821 / 4900) loss: nan\n",
      "(Iteration 1831 / 4900) loss: nan\n",
      "(Iteration 1841 / 4900) loss: nan\n",
      "(Iteration 1851 / 4900) loss: nan\n",
      "(Iteration 1861 / 4900) loss: nan\n",
      "(Iteration 1871 / 4900) loss: nan\n",
      "(Iteration 1881 / 4900) loss: nan\n",
      "(Iteration 1891 / 4900) loss: nan\n",
      "(Iteration 1901 / 4900) loss: nan\n",
      "(Iteration 1911 / 4900) loss: nan\n",
      "(Iteration 1921 / 4900) loss: nan\n",
      "(Iteration 1931 / 4900) loss: nan\n",
      "(Iteration 1941 / 4900) loss: nan\n",
      "(Iteration 1951 / 4900) loss: nan\n",
      "(Epoch 4 / 10) train acc: 0.096000; val_acc: 0.087000\n",
      "(Iteration 1961 / 4900) loss: nan\n",
      "(Iteration 1971 / 4900) loss: nan\n",
      "(Iteration 1981 / 4900) loss: nan\n",
      "(Iteration 1991 / 4900) loss: nan\n",
      "(Iteration 2001 / 4900) loss: nan\n",
      "(Iteration 2011 / 4900) loss: nan\n",
      "(Iteration 2021 / 4900) loss: nan\n",
      "(Iteration 2031 / 4900) loss: nan\n",
      "(Iteration 2041 / 4900) loss: nan\n",
      "(Iteration 2051 / 4900) loss: nan\n",
      "(Iteration 2061 / 4900) loss: nan\n",
      "(Iteration 2071 / 4900) loss: nan\n",
      "(Iteration 2081 / 4900) loss: nan\n",
      "(Iteration 2091 / 4900) loss: nan\n",
      "(Iteration 2101 / 4900) loss: nan\n",
      "(Iteration 2111 / 4900) loss: nan\n",
      "(Iteration 2121 / 4900) loss: nan\n",
      "(Iteration 2131 / 4900) loss: nan\n",
      "(Iteration 2141 / 4900) loss: nan\n",
      "(Iteration 2151 / 4900) loss: nan\n",
      "(Iteration 2161 / 4900) loss: nan\n",
      "(Iteration 2171 / 4900) loss: nan\n",
      "(Iteration 2181 / 4900) loss: nan\n",
      "(Iteration 2191 / 4900) loss: nan\n",
      "(Iteration 2201 / 4900) loss: nan\n",
      "(Iteration 2211 / 4900) loss: nan\n",
      "(Iteration 2221 / 4900) loss: nan\n",
      "(Iteration 2231 / 4900) loss: nan\n",
      "(Iteration 2241 / 4900) loss: nan\n",
      "(Iteration 2251 / 4900) loss: nan\n",
      "(Iteration 2261 / 4900) loss: nan\n",
      "(Iteration 2271 / 4900) loss: nan\n",
      "(Iteration 2281 / 4900) loss: nan\n",
      "(Iteration 2291 / 4900) loss: nan\n",
      "(Iteration 2301 / 4900) loss: nan\n",
      "(Iteration 2311 / 4900) loss: nan\n",
      "(Iteration 2321 / 4900) loss: nan\n",
      "(Iteration 2331 / 4900) loss: nan\n",
      "(Iteration 2341 / 4900) loss: nan\n",
      "(Iteration 2351 / 4900) loss: nan\n",
      "(Iteration 2361 / 4900) loss: nan\n",
      "(Iteration 2371 / 4900) loss: nan\n",
      "(Iteration 2381 / 4900) loss: nan\n",
      "(Iteration 2391 / 4900) loss: nan\n",
      "(Iteration 2401 / 4900) loss: nan\n",
      "(Iteration 2411 / 4900) loss: nan\n",
      "(Iteration 2421 / 4900) loss: nan\n",
      "(Iteration 2431 / 4900) loss: nan\n",
      "(Iteration 2441 / 4900) loss: nan\n",
      "(Epoch 5 / 10) train acc: 0.104000; val_acc: 0.087000\n",
      "(Iteration 2451 / 4900) loss: nan\n",
      "(Iteration 2461 / 4900) loss: nan\n",
      "(Iteration 2471 / 4900) loss: nan\n",
      "(Iteration 2481 / 4900) loss: nan\n",
      "(Iteration 2491 / 4900) loss: nan\n",
      "(Iteration 2501 / 4900) loss: nan\n",
      "(Iteration 2511 / 4900) loss: nan\n",
      "(Iteration 2521 / 4900) loss: nan\n",
      "(Iteration 2531 / 4900) loss: nan\n",
      "(Iteration 2541 / 4900) loss: nan\n",
      "(Iteration 2551 / 4900) loss: nan\n",
      "(Iteration 2561 / 4900) loss: nan\n",
      "(Iteration 2571 / 4900) loss: nan\n",
      "(Iteration 2581 / 4900) loss: nan\n",
      "(Iteration 2591 / 4900) loss: nan\n",
      "(Iteration 2601 / 4900) loss: nan\n",
      "(Iteration 2611 / 4900) loss: nan\n",
      "(Iteration 2621 / 4900) loss: nan\n",
      "(Iteration 2631 / 4900) loss: nan\n",
      "(Iteration 2641 / 4900) loss: nan\n",
      "(Iteration 2651 / 4900) loss: nan\n",
      "(Iteration 2661 / 4900) loss: nan\n",
      "(Iteration 2671 / 4900) loss: nan\n",
      "(Iteration 2681 / 4900) loss: nan\n",
      "(Iteration 2691 / 4900) loss: nan\n",
      "(Iteration 2701 / 4900) loss: nan\n",
      "(Iteration 2711 / 4900) loss: nan\n",
      "(Iteration 2721 / 4900) loss: nan\n",
      "(Iteration 2731 / 4900) loss: nan\n",
      "(Iteration 2741 / 4900) loss: nan\n",
      "(Iteration 2751 / 4900) loss: nan\n",
      "(Iteration 2761 / 4900) loss: nan\n",
      "(Iteration 2771 / 4900) loss: nan\n",
      "(Iteration 2781 / 4900) loss: nan\n",
      "(Iteration 2791 / 4900) loss: nan\n",
      "(Iteration 2801 / 4900) loss: nan\n",
      "(Iteration 2811 / 4900) loss: nan\n",
      "(Iteration 2821 / 4900) loss: nan\n",
      "(Iteration 2831 / 4900) loss: nan\n",
      "(Iteration 2841 / 4900) loss: nan\n",
      "(Iteration 2851 / 4900) loss: nan\n",
      "(Iteration 2861 / 4900) loss: nan\n",
      "(Iteration 2871 / 4900) loss: nan\n",
      "(Iteration 2881 / 4900) loss: nan\n",
      "(Iteration 2891 / 4900) loss: nan\n",
      "(Iteration 2901 / 4900) loss: nan\n",
      "(Iteration 2911 / 4900) loss: nan\n",
      "(Iteration 2921 / 4900) loss: nan\n",
      "(Iteration 2931 / 4900) loss: nan\n",
      "(Epoch 6 / 10) train acc: 0.106000; val_acc: 0.087000\n",
      "(Iteration 2941 / 4900) loss: nan\n",
      "(Iteration 2951 / 4900) loss: nan\n",
      "(Iteration 2961 / 4900) loss: nan\n",
      "(Iteration 2971 / 4900) loss: nan\n",
      "(Iteration 2981 / 4900) loss: nan\n",
      "(Iteration 2991 / 4900) loss: nan\n",
      "(Iteration 3001 / 4900) loss: nan\n",
      "(Iteration 3011 / 4900) loss: nan\n",
      "(Iteration 3021 / 4900) loss: nan\n",
      "(Iteration 3031 / 4900) loss: nan\n",
      "(Iteration 3041 / 4900) loss: nan\n",
      "(Iteration 3051 / 4900) loss: nan\n",
      "(Iteration 3061 / 4900) loss: nan\n",
      "(Iteration 3071 / 4900) loss: nan\n",
      "(Iteration 3081 / 4900) loss: nan\n",
      "(Iteration 3091 / 4900) loss: nan\n",
      "(Iteration 3101 / 4900) loss: nan\n",
      "(Iteration 3111 / 4900) loss: nan\n",
      "(Iteration 3121 / 4900) loss: nan\n",
      "(Iteration 3131 / 4900) loss: nan\n",
      "(Iteration 3141 / 4900) loss: nan\n",
      "(Iteration 3151 / 4900) loss: nan\n",
      "(Iteration 3161 / 4900) loss: nan\n",
      "(Iteration 3171 / 4900) loss: nan\n",
      "(Iteration 3181 / 4900) loss: nan\n",
      "(Iteration 3191 / 4900) loss: nan\n",
      "(Iteration 3201 / 4900) loss: nan\n",
      "(Iteration 3211 / 4900) loss: nan\n",
      "(Iteration 3221 / 4900) loss: nan\n",
      "(Iteration 3231 / 4900) loss: nan\n",
      "(Iteration 3241 / 4900) loss: nan\n",
      "(Iteration 3251 / 4900) loss: nan\n",
      "(Iteration 3261 / 4900) loss: nan\n",
      "(Iteration 3271 / 4900) loss: nan\n",
      "(Iteration 3281 / 4900) loss: nan\n",
      "(Iteration 3291 / 4900) loss: nan\n",
      "(Iteration 3301 / 4900) loss: nan\n",
      "(Iteration 3311 / 4900) loss: nan\n",
      "(Iteration 3321 / 4900) loss: nan\n",
      "(Iteration 3331 / 4900) loss: nan\n",
      "(Iteration 3341 / 4900) loss: nan\n",
      "(Iteration 3351 / 4900) loss: nan\n",
      "(Iteration 3361 / 4900) loss: nan\n",
      "(Iteration 3371 / 4900) loss: nan\n",
      "(Iteration 3381 / 4900) loss: nan\n",
      "(Iteration 3391 / 4900) loss: nan\n",
      "(Iteration 3401 / 4900) loss: nan\n",
      "(Iteration 3411 / 4900) loss: nan\n",
      "(Iteration 3421 / 4900) loss: nan\n",
      "(Epoch 7 / 10) train acc: 0.102000; val_acc: 0.087000\n",
      "(Iteration 3431 / 4900) loss: nan\n",
      "(Iteration 3441 / 4900) loss: nan\n",
      "(Iteration 3451 / 4900) loss: nan\n",
      "(Iteration 3461 / 4900) loss: nan\n",
      "(Iteration 3471 / 4900) loss: nan\n",
      "(Iteration 3481 / 4900) loss: nan\n",
      "(Iteration 3491 / 4900) loss: nan\n",
      "(Iteration 3501 / 4900) loss: nan\n",
      "(Iteration 3511 / 4900) loss: nan\n",
      "(Iteration 3521 / 4900) loss: nan\n",
      "(Iteration 3531 / 4900) loss: nan\n",
      "(Iteration 3541 / 4900) loss: nan\n",
      "(Iteration 3551 / 4900) loss: nan\n",
      "(Iteration 3561 / 4900) loss: nan\n",
      "(Iteration 3571 / 4900) loss: nan\n",
      "(Iteration 3581 / 4900) loss: nan\n",
      "(Iteration 3591 / 4900) loss: nan\n",
      "(Iteration 3601 / 4900) loss: nan\n",
      "(Iteration 3611 / 4900) loss: nan\n",
      "(Iteration 3621 / 4900) loss: nan\n",
      "(Iteration 3631 / 4900) loss: nan\n",
      "(Iteration 3641 / 4900) loss: nan\n",
      "(Iteration 3651 / 4900) loss: nan\n",
      "(Iteration 3661 / 4900) loss: nan\n",
      "(Iteration 3671 / 4900) loss: nan\n",
      "(Iteration 3681 / 4900) loss: nan\n",
      "(Iteration 3691 / 4900) loss: nan\n",
      "(Iteration 3701 / 4900) loss: nan\n",
      "(Iteration 3711 / 4900) loss: nan\n",
      "(Iteration 3721 / 4900) loss: nan\n",
      "(Iteration 3731 / 4900) loss: nan\n",
      "(Iteration 3741 / 4900) loss: nan\n",
      "(Iteration 3751 / 4900) loss: nan\n",
      "(Iteration 3761 / 4900) loss: nan\n",
      "(Iteration 3771 / 4900) loss: nan\n",
      "(Iteration 3781 / 4900) loss: nan\n",
      "(Iteration 3791 / 4900) loss: nan\n",
      "(Iteration 3801 / 4900) loss: nan\n",
      "(Iteration 3811 / 4900) loss: nan\n",
      "(Iteration 3821 / 4900) loss: nan\n",
      "(Iteration 3831 / 4900) loss: nan\n",
      "(Iteration 3841 / 4900) loss: nan\n",
      "(Iteration 3851 / 4900) loss: nan\n",
      "(Iteration 3861 / 4900) loss: nan\n",
      "(Iteration 3871 / 4900) loss: nan\n",
      "(Iteration 3881 / 4900) loss: nan\n",
      "(Iteration 3891 / 4900) loss: nan\n",
      "(Iteration 3901 / 4900) loss: nan\n",
      "(Iteration 3911 / 4900) loss: nan\n",
      "(Epoch 8 / 10) train acc: 0.112000; val_acc: 0.087000\n",
      "(Iteration 3921 / 4900) loss: nan\n",
      "(Iteration 3931 / 4900) loss: nan\n",
      "(Iteration 3941 / 4900) loss: nan\n",
      "(Iteration 3951 / 4900) loss: nan\n",
      "(Iteration 3961 / 4900) loss: nan\n",
      "(Iteration 3971 / 4900) loss: nan\n",
      "(Iteration 3981 / 4900) loss: nan\n",
      "(Iteration 3991 / 4900) loss: nan\n",
      "(Iteration 4001 / 4900) loss: nan\n",
      "(Iteration 4011 / 4900) loss: nan\n",
      "(Iteration 4021 / 4900) loss: nan\n",
      "(Iteration 4031 / 4900) loss: nan\n",
      "(Iteration 4041 / 4900) loss: nan\n",
      "(Iteration 4051 / 4900) loss: nan\n",
      "(Iteration 4061 / 4900) loss: nan\n",
      "(Iteration 4071 / 4900) loss: nan\n",
      "(Iteration 4081 / 4900) loss: nan\n",
      "(Iteration 4091 / 4900) loss: nan\n",
      "(Iteration 4101 / 4900) loss: nan\n",
      "(Iteration 4111 / 4900) loss: nan\n",
      "(Iteration 4121 / 4900) loss: nan\n",
      "(Iteration 4131 / 4900) loss: nan\n",
      "(Iteration 4141 / 4900) loss: nan\n",
      "(Iteration 4151 / 4900) loss: nan\n",
      "(Iteration 4161 / 4900) loss: nan\n",
      "(Iteration 4171 / 4900) loss: nan\n",
      "(Iteration 4181 / 4900) loss: nan\n",
      "(Iteration 4191 / 4900) loss: nan\n",
      "(Iteration 4201 / 4900) loss: nan\n",
      "(Iteration 4211 / 4900) loss: nan\n",
      "(Iteration 4221 / 4900) loss: nan\n",
      "(Iteration 4231 / 4900) loss: nan\n",
      "(Iteration 4241 / 4900) loss: nan\n",
      "(Iteration 4251 / 4900) loss: nan\n",
      "(Iteration 4261 / 4900) loss: nan\n",
      "(Iteration 4271 / 4900) loss: nan\n",
      "(Iteration 4281 / 4900) loss: nan\n",
      "(Iteration 4291 / 4900) loss: nan\n",
      "(Iteration 4301 / 4900) loss: nan\n",
      "(Iteration 4311 / 4900) loss: nan\n",
      "(Iteration 4321 / 4900) loss: nan\n",
      "(Iteration 4331 / 4900) loss: nan\n",
      "(Iteration 4341 / 4900) loss: nan\n"
     ]
    },
    {
     "ename": "KeyboardInterrupt",
     "evalue": "",
     "output_type": "error",
     "traceback": [
      "\u001B[0;31m---------------------------------------------------------------------------\u001B[0m",
      "\u001B[0;31mKeyboardInterrupt\u001B[0m                         Traceback (most recent call last)",
      "Cell \u001B[0;32mIn[19], line 3\u001B[0m\n\u001B[1;32m      1\u001B[0m model \u001B[38;5;241m=\u001B[39m TwoLayerNet()\n\u001B[1;32m      2\u001B[0m solver \u001B[38;5;241m=\u001B[39m Solver(model, data)\n\u001B[0;32m----> 3\u001B[0m \u001B[43msolver\u001B[49m\u001B[38;5;241;43m.\u001B[39;49m\u001B[43mtrain\u001B[49m\u001B[43m(\u001B[49m\u001B[43m)\u001B[49m\n\u001B[1;32m      4\u001B[0m \u001B[38;5;28mprint\u001B[39m(solver\u001B[38;5;241m.\u001B[39mcheck_accuracy(data[\u001B[38;5;124m'\u001B[39m\u001B[38;5;124mX_test\u001B[39m\u001B[38;5;124m'\u001B[39m], data[\u001B[38;5;124m'\u001B[39m\u001B[38;5;124my_test\u001B[39m\u001B[38;5;124m'\u001B[39m]))\n",
      "File \u001B[0;32m~/Desktop/cs182/hw0code (1)/deeplearning/solver.py:230\u001B[0m, in \u001B[0;36mSolver.train\u001B[0;34m(self)\u001B[0m\n\u001B[1;32m    227\u001B[0m num_iterations \u001B[38;5;241m=\u001B[39m \u001B[38;5;28mself\u001B[39m\u001B[38;5;241m.\u001B[39mnum_epochs \u001B[38;5;241m*\u001B[39m iterations_per_epoch\n\u001B[1;32m    229\u001B[0m \u001B[38;5;28;01mfor\u001B[39;00m t \u001B[38;5;129;01min\u001B[39;00m \u001B[38;5;28mrange\u001B[39m(num_iterations):\n\u001B[0;32m--> 230\u001B[0m     \u001B[38;5;28;43mself\u001B[39;49m\u001B[38;5;241;43m.\u001B[39;49m\u001B[43m_step\u001B[49m\u001B[43m(\u001B[49m\u001B[43m)\u001B[49m\n\u001B[1;32m    232\u001B[0m     \u001B[38;5;66;03m# Maybe print training loss\u001B[39;00m\n\u001B[1;32m    233\u001B[0m     \u001B[38;5;28;01mif\u001B[39;00m \u001B[38;5;28mself\u001B[39m\u001B[38;5;241m.\u001B[39mverbose \u001B[38;5;129;01mand\u001B[39;00m t \u001B[38;5;241m%\u001B[39m \u001B[38;5;28mself\u001B[39m\u001B[38;5;241m.\u001B[39mprint_every \u001B[38;5;241m==\u001B[39m \u001B[38;5;241m0\u001B[39m:\n",
      "File \u001B[0;32m~/Desktop/cs182/hw0code (1)/deeplearning/solver.py:163\u001B[0m, in \u001B[0;36mSolver._step\u001B[0;34m(self)\u001B[0m\n\u001B[1;32m    160\u001B[0m y_batch \u001B[38;5;241m=\u001B[39m \u001B[38;5;28mself\u001B[39m\u001B[38;5;241m.\u001B[39my_train[batch_mask]\n\u001B[1;32m    162\u001B[0m \u001B[38;5;66;03m# Compute loss and gradient\u001B[39;00m\n\u001B[0;32m--> 163\u001B[0m loss, grads \u001B[38;5;241m=\u001B[39m \u001B[38;5;28;43mself\u001B[39;49m\u001B[38;5;241;43m.\u001B[39;49m\u001B[43mmodel\u001B[49m\u001B[38;5;241;43m.\u001B[39;49m\u001B[43mloss\u001B[49m\u001B[43m(\u001B[49m\u001B[43mX_batch\u001B[49m\u001B[43m,\u001B[49m\u001B[43m \u001B[49m\u001B[43my_batch\u001B[49m\u001B[43m)\u001B[49m\n\u001B[1;32m    164\u001B[0m \u001B[38;5;28mself\u001B[39m\u001B[38;5;241m.\u001B[39mloss_history\u001B[38;5;241m.\u001B[39mappend(loss)\n\u001B[1;32m    166\u001B[0m \u001B[38;5;66;03m# Perform a parameter update\u001B[39;00m\n",
      "File \u001B[0;32m~/Desktop/cs182/hw0code (1)/deeplearning/classifiers/fc_net.py:105\u001B[0m, in \u001B[0;36mTwoLayerNet.loss\u001B[0;34m(self, X, y)\u001B[0m\n\u001B[1;32m    103\u001B[0m _, grads[\u001B[38;5;124m'\u001B[39m\u001B[38;5;124mW2\u001B[39m\u001B[38;5;124m'\u001B[39m], grads[\u001B[38;5;124m'\u001B[39m\u001B[38;5;124mb2\u001B[39m\u001B[38;5;124m'\u001B[39m] \u001B[38;5;241m=\u001B[39m affine_backward(dx, layer2_cache)\n\u001B[1;32m    104\u001B[0m grads[\u001B[38;5;124m'\u001B[39m\u001B[38;5;124mW2\u001B[39m\u001B[38;5;124m'\u001B[39m] \u001B[38;5;241m+\u001B[39m\u001B[38;5;241m=\u001B[39m \u001B[38;5;28mself\u001B[39m\u001B[38;5;241m.\u001B[39mreg \u001B[38;5;241m*\u001B[39m W2  \u001B[38;5;66;03m# Add L2 regularization\u001B[39;00m\n\u001B[0;32m--> 105\u001B[0m _, grads[\u001B[38;5;124m'\u001B[39m\u001B[38;5;124mW1\u001B[39m\u001B[38;5;124m'\u001B[39m], grads[\u001B[38;5;124m'\u001B[39m\u001B[38;5;124mb1\u001B[39m\u001B[38;5;124m'\u001B[39m] \u001B[38;5;241m=\u001B[39m \u001B[43maffine_relu_backward\u001B[49m\u001B[43m(\u001B[49m\u001B[43mnp\u001B[49m\u001B[38;5;241;43m.\u001B[39;49m\u001B[43mdot\u001B[49m\u001B[43m(\u001B[49m\u001B[43mdx\u001B[49m\u001B[43m,\u001B[49m\u001B[43m \u001B[49m\u001B[43mW2\u001B[49m\u001B[38;5;241;43m.\u001B[39;49m\u001B[43mT\u001B[49m\u001B[43m)\u001B[49m\u001B[43m,\u001B[49m\u001B[43m \u001B[49m\u001B[43mlayer1_cache\u001B[49m\u001B[43m)\u001B[49m\n\u001B[1;32m    106\u001B[0m grads[\u001B[38;5;124m'\u001B[39m\u001B[38;5;124mW1\u001B[39m\u001B[38;5;124m'\u001B[39m] \u001B[38;5;241m+\u001B[39m\u001B[38;5;241m=\u001B[39m \u001B[38;5;28mself\u001B[39m\u001B[38;5;241m.\u001B[39mreg \u001B[38;5;241m*\u001B[39m W1  \u001B[38;5;66;03m# Add L2 regularization\u001B[39;00m\n\u001B[1;32m    107\u001B[0m \u001B[38;5;66;03m############################################################################\u001B[39;00m\n\u001B[1;32m    108\u001B[0m \u001B[38;5;66;03m# TODO: Implement the backward pass for the two-layer net. Store the loss  #\u001B[39;00m\n\u001B[1;32m    109\u001B[0m \u001B[38;5;66;03m# in the loss variable and gradients in the grads dictionary. Compute data #\u001B[39;00m\n\u001B[0;32m   (...)\u001B[0m\n\u001B[1;32m    119\u001B[0m \u001B[38;5;66;03m#                             END OF YOUR CODE                             #\u001B[39;00m\n\u001B[1;32m    120\u001B[0m \u001B[38;5;66;03m############################################################################\u001B[39;00m\n",
      "File \u001B[0;32m~/Desktop/cs182/hw0code (1)/deeplearning/layer_utils.py:27\u001B[0m, in \u001B[0;36maffine_relu_backward\u001B[0;34m(dout, cache)\u001B[0m\n\u001B[1;32m     25\u001B[0m fc_cache, relu_cache \u001B[38;5;241m=\u001B[39m cache\n\u001B[1;32m     26\u001B[0m da \u001B[38;5;241m=\u001B[39m relu_backward(dout, relu_cache)\n\u001B[0;32m---> 27\u001B[0m dx, dw, db \u001B[38;5;241m=\u001B[39m \u001B[43maffine_backward\u001B[49m\u001B[43m(\u001B[49m\u001B[43mda\u001B[49m\u001B[43m,\u001B[49m\u001B[43m \u001B[49m\u001B[43mfc_cache\u001B[49m\u001B[43m)\u001B[49m\n\u001B[1;32m     28\u001B[0m \u001B[38;5;28;01mreturn\u001B[39;00m dx, dw, db\n",
      "File \u001B[0;32m~/Desktop/cs182/hw0code (1)/deeplearning/layers.py:52\u001B[0m, in \u001B[0;36maffine_backward\u001B[0;34m(dout, cache)\u001B[0m\n\u001B[1;32m     50\u001B[0m x, w, b \u001B[38;5;241m=\u001B[39m cache\n\u001B[1;32m     51\u001B[0m x_hat \u001B[38;5;241m=\u001B[39m x\u001B[38;5;241m.\u001B[39mreshape(x\u001B[38;5;241m.\u001B[39mshape[\u001B[38;5;241m0\u001B[39m], \u001B[38;5;241m-\u001B[39m\u001B[38;5;241m1\u001B[39m)\n\u001B[0;32m---> 52\u001B[0m dx, dw, db \u001B[38;5;241m=\u001B[39m \u001B[43mnp\u001B[49m\u001B[38;5;241;43m.\u001B[39;49m\u001B[43mdot\u001B[49m\u001B[43m(\u001B[49m\u001B[43mdout\u001B[49m\u001B[43m,\u001B[49m\u001B[43mw\u001B[49m\u001B[38;5;241;43m.\u001B[39;49m\u001B[43mT\u001B[49m\u001B[43m)\u001B[49m, np\u001B[38;5;241m.\u001B[39mdot(x_hat\u001B[38;5;241m.\u001B[39mT, dout), np\u001B[38;5;241m.\u001B[39msum(dout, axis\u001B[38;5;241m=\u001B[39m\u001B[38;5;241m0\u001B[39m)\n\u001B[1;32m     53\u001B[0m dx \u001B[38;5;241m=\u001B[39m dx\u001B[38;5;241m.\u001B[39mreshape(x\u001B[38;5;241m.\u001B[39mshape)  \u001B[38;5;66;03m# Reshape dx back to the original input shape\u001B[39;00m\n\u001B[1;32m     54\u001B[0m \u001B[38;5;66;03m#############################################################################\u001B[39;00m\n\u001B[1;32m     55\u001B[0m \u001B[38;5;66;03m# TODO: Implement the affine backward pass.                                 #\u001B[39;00m\n\u001B[1;32m     56\u001B[0m \u001B[38;5;66;03m#############################################################################\u001B[39;00m\n\u001B[1;32m     57\u001B[0m \u001B[38;5;66;03m#############################################################################\u001B[39;00m\n\u001B[1;32m     58\u001B[0m \u001B[38;5;66;03m#                             END OF YOUR CODE                              #\u001B[39;00m\n\u001B[1;32m     59\u001B[0m \u001B[38;5;66;03m#############################################################################\u001B[39;00m\n",
      "File \u001B[0;32m<__array_function__ internals>:200\u001B[0m, in \u001B[0;36mdot\u001B[0;34m(*args, **kwargs)\u001B[0m\n",
      "\u001B[0;31mKeyboardInterrupt\u001B[0m: "
     ]
    }
   ],
   "execution_count": 19
  },
  {
   "cell_type": "code",
   "execution_count": null,
   "metadata": {
    "colab": {
     "base_uri": "https://localhost:8080/",
     "height": 730
    },
    "id": "aoDlB7B3-mvZ",
    "outputId": "787f8ed1-208a-4259-bf47-141a1826ddbf"
   },
   "outputs": [],
   "source": [
    "# Run this cell to visualize training loss and train / val accuracy, and save the log file of the\n",
    "# experiment for submission.\n",
    "\n",
    "plt.subplot(2, 1, 1)\n",
    "plt.title('Training loss')\n",
    "plt.plot(solver.loss_history, 'o')\n",
    "plt.xlabel('Iteration')\n",
    "\n",
    "plt.subplot(2, 1, 2)\n",
    "plt.title('Accuracy')\n",
    "plt.plot(solver.train_acc_history, '-o', label='train')\n",
    "plt.plot(solver.val_acc_history, '-o', label='val')\n",
    "plt.plot([0.5] * len(solver.val_acc_history), 'k--')\n",
    "plt.xlabel('Epoch')\n",
    "plt.legend(loc='lower right')\n",
    "plt.gcf().set_size_inches(15, 12)\n",
    "plt.show()"
   ]
  },
  {
   "cell_type": "markdown",
   "metadata": {
    "id": "fPnhOwgs-mvZ"
   },
   "source": [
    "# Multilayer network\n",
    "Next you will implement a fully-connected network with an arbitrary number of hidden layers.\n",
    "\n",
    "Read through the `FullyConnectedNet` class in the file `deeplearning/classifiers/fc_net.py`.\n",
    "\n",
    "Implement the initialization, the forward pass, and the backward pass. For the moment don't worry about implementing dropout or batch normalization; we will add those features soon."
   ]
  },
  {
   "cell_type": "markdown",
   "metadata": {
    "id": "acYmIpOa-mvZ"
   },
   "source": [
    "## Initial loss and gradient check"
   ]
  },
  {
   "cell_type": "markdown",
   "metadata": {
    "id": "Jn4a9lIr-mvZ"
   },
   "source": [
    "As a sanity check, run the following to check the initial loss and to gradient check the network both with and without regularization. Do the initial losses seem reasonable?\n",
    "\n",
    "For gradient checking, you should expect to see errors around 1e-6 or less."
   ]
  },
  {
   "cell_type": "code",
   "execution_count": null,
   "metadata": {
    "colab": {
     "base_uri": "https://localhost:8080/"
    },
    "id": "l2GgWqb6-mvZ",
    "outputId": "abfa5034-c4f8-4244-ca71-9ff0fee52901"
   },
   "outputs": [],
   "source": [
    "N, D, H1, H2, C = 2, 15, 20, 30, 10\n",
    "X = np.random.randn(N, D)\n",
    "y = np.random.randint(C, size=(N,))\n",
    "\n",
    "for reg in [0, 3.14]:\n",
    "    print ('Running check with reg = ', reg)\n",
    "    model = FullyConnectedNet([H1, H2], input_dim=D, num_classes=C,\n",
    "                              reg=reg, weight_scale=5e-2, dtype=np.float64)\n",
    "\n",
    "    loss, grads = model.loss(X, y)\n",
    "    print ('Initial loss: ', loss)\n",
    "\n",
    "    for name in sorted(grads):\n",
    "        f = lambda _: model.loss(X, y)[0]\n",
    "        grad_num = eval_numerical_gradient(f, model.params[name], verbose=False, h=1e-5)\n",
    "        print ('%s relative error: %.2e' % (name, rel_error(grad_num, grads[name])))"
   ]
  },
  {
   "cell_type": "markdown",
   "metadata": {
    "id": "JAwlTiUM-mvZ"
   },
   "source": [
    "As another sanity check, make sure you can overfit a small dataset of 50 images. First we will try a three-layer network with 100 units in each hidden layer. You will need to tweak the learning rate and initialization scale, but you should be able to overfit and achieve 100% training accuracy within 20 epochs."
   ]
  },
  {
   "cell_type": "code",
   "execution_count": null,
   "metadata": {
    "colab": {
     "base_uri": "https://localhost:8080/",
     "height": 958
    },
    "id": "x2GSa4JV-mvZ",
    "outputId": "e715ac58-c76e-4aa9-93f1-c8f4a74962f1"
   },
   "outputs": [],
   "source": [
    "# TODO: Use a three-layer Net to overfit 50 training examples.\n",
    "\n",
    "num_train = 50\n",
    "small_data = {\n",
    "  'X_train': data['X_train'][:num_train],\n",
    "  'y_train': data['y_train'][:num_train],\n",
    "  'X_val': data['X_val'],\n",
    "  'y_val': data['y_val'],\n",
    "}\n",
    "\n",
    "############################################################################\n",
    "############################################################################\n",
    "############################################################################\n",
    "#                             END OF YOUR CODE                             #\n",
    "############################################################################\n",
    "\n",
    "model = FullyConnectedNet([100, 100],\n",
    "              weight_scale=weight_scale, dtype=np.float64)\n",
    "solver = Solver(model, small_data,\n",
    "                print_every=10, num_epochs=20, batch_size=25,\n",
    "                update_rule='sgd',\n",
    "                optim_config={\n",
    "                  'learning_rate': learning_rate,\n",
    "                }\n",
    "         )\n",
    "solver.train()\n",
    "\n",
    "plt.plot(solver.loss_history, 'o')\n",
    "plt.title('Training loss history')\n",
    "plt.xlabel('Iteration')\n",
    "plt.ylabel('Training loss')\n",
    "plt.show()"
   ]
  },
  {
   "cell_type": "markdown",
   "metadata": {
    "id": "z3XtDJFd-mva"
   },
   "source": [
    "Now try to use a five-layer network with 100 units on each layer to overfit 50 training examples. Again you will have to adjust the learning rate and weight initialization, but you should be able to achieve 100% training accuracy within 20 epochs."
   ]
  },
  {
   "cell_type": "code",
   "execution_count": null,
   "metadata": {
    "colab": {
     "base_uri": "https://localhost:8080/",
     "height": 958
    },
    "id": "M4iY4Pv--mva",
    "outputId": "28646dc8-c8ff-4085-898a-93674ab25f4f"
   },
   "outputs": [],
   "source": [
    "## TODO: Use a five-layer Net to overfit 50 training examples.\n",
    "\n",
    "num_train = 50\n",
    "small_data = {\n",
    "  'X_train': data['X_train'][:num_train],\n",
    "  'y_train': data['y_train'][:num_train],\n",
    "  'X_val': data['X_val'],\n",
    "  'y_val': data['y_val'],\n",
    "}\n",
    "\n",
    "############################################################################\n",
    "# TODO: Tune these parameters to get 100% train accuracy within 20 epochs. #\n",
    "############################################################################\n",
    "############################################################################\n",
    "#                             END OF YOUR CODE                             #\n",
    "############################################################################\n",
    "\n",
    "model = FullyConnectedNet([100, 100, 100, 100],\n",
    "                weight_scale=weight_scale, dtype=np.float64)\n",
    "solver = Solver(model, small_data,\n",
    "                print_every=10, num_epochs=20, batch_size=25,\n",
    "                update_rule='sgd',\n",
    "                optim_config={\n",
    "                  'learning_rate': learning_rate,\n",
    "                }\n",
    "         )\n",
    "solver.train()\n",
    "\n",
    "plt.plot(solver.loss_history, 'o')\n",
    "plt.title('Training loss history')\n",
    "plt.xlabel('Iteration')\n",
    "plt.ylabel('Training loss')\n",
    "plt.show()"
   ]
  },
  {
   "cell_type": "markdown",
   "metadata": {
    "id": "EiokCnAV-mva"
   },
   "source": [
    "# Question: \n",
    "Did you notice anything about the comparative difficulty of training the three-layer net vs training the five layer net?\n",
    "\n",
    "**Please include your response in the written assignment submission.**\n"
   ]
  }
 ],
 "metadata": {
  "colab": {
   "provenance": []
  },
  "kernelspec": {
   "display_name": "Python 3 (ipykernel)",
   "language": "python",
   "name": "python3"
  },
  "language_info": {
   "codemirror_mode": {
    "name": "ipython",
    "version": 3
   },
   "file_extension": ".py",
   "mimetype": "text/x-python",
   "name": "python",
   "nbconvert_exporter": "python",
   "pygments_lexer": "ipython3",
   "version": "3.8.20"
  }
 },
 "nbformat": 4,
 "nbformat_minor": 4
}
