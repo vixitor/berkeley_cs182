{
 "cells": [
  {
   "cell_type": "markdown",
   "metadata": {
    "id": "BtMNN3c-PdkU"
   },
   "source": [
    "# Setup Environment\n",
    "\n",
    "If you are working on this assignment using Google Colab, please execute the codes below.\n",
    "\n",
    "Alternatively, you can also do this assignment using a local anaconda environment (or a Python virtualenv). Please clone the GitHub repo by running `git clone https://github.com/Berkeley-CS182/cs182fa23_public.git` cd to `cs182fa23_public/hw/hw1/code/networks/problem` and refer to `README.md` for further details."
   ]
  },
  {
   "cell_type": "code",
   "metadata": {
    "colab": {
     "base_uri": "https://localhost:8080/"
    },
    "id": "4vjm9qB3-yIM",
    "outputId": "a321a1de-30ad-4529-80ba-4798cb294550",
    "ExecuteTime": {
     "end_time": "2025-05-28T23:17:33.079682Z",
     "start_time": "2025-05-28T23:17:32.865538Z"
    }
   },
   "source": [
    "#@title Mount your Google Drive\n",
    "\n",
    "import os\n",
    "from google.colab import drive\n",
    "drive.mount('/content/gdrive')"
   ],
   "outputs": [
    {
     "ename": "ModuleNotFoundError",
     "evalue": "No module named 'google'",
     "output_type": "error",
     "traceback": [
      "\u001B[0;31m---------------------------------------------------------------------------\u001B[0m",
      "\u001B[0;31mModuleNotFoundError\u001B[0m                       Traceback (most recent call last)",
      "Cell \u001B[0;32mIn[1], line 4\u001B[0m\n\u001B[1;32m      1\u001B[0m \u001B[38;5;66;03m#@title Mount your Google Drive\u001B[39;00m\n\u001B[1;32m      3\u001B[0m \u001B[38;5;28;01mimport\u001B[39;00m \u001B[38;5;21;01mos\u001B[39;00m\n\u001B[0;32m----> 4\u001B[0m \u001B[38;5;28;01mfrom\u001B[39;00m \u001B[38;5;21;01mgoogle\u001B[39;00m\u001B[38;5;21;01m.\u001B[39;00m\u001B[38;5;21;01mcolab\u001B[39;00m \u001B[38;5;28;01mimport\u001B[39;00m drive\n\u001B[1;32m      5\u001B[0m drive\u001B[38;5;241m.\u001B[39mmount(\u001B[38;5;124m'\u001B[39m\u001B[38;5;124m/content/gdrive\u001B[39m\u001B[38;5;124m'\u001B[39m)\n",
      "\u001B[0;31mModuleNotFoundError\u001B[0m: No module named 'google'"
     ]
    }
   ],
   "execution_count": 1
  },
  {
   "cell_type": "code",
   "execution_count": null,
   "metadata": {
    "id": "1O6fSV0o_COV"
   },
   "outputs": [],
   "source": [
    "#@title Set up mount symlink\n",
    "REPO_NAME = 'cs182fa23_public'\n",
    "\n",
    "DRIVE_PATH = f'/content/gdrive/My\\ Drive/{REPO_NAME}'\n",
    "DRIVE_PYTHON_PATH = DRIVE_PATH.replace('\\\\', '')\n",
    "if not os.path.exists(DRIVE_PYTHON_PATH):\n",
    "  %mkdir $DRIVE_PATH\n",
    "\n",
    "## the space in `My Drive` causes some issues,\n",
    "## make a symlink to avoid this\n",
    "SYM_PATH = f'/content/{REPO_NAME}'\n",
    "if not os.path.exists(SYM_PATH):\n",
    "  !ln -s $DRIVE_PATH $SYM_PATH"
   ]
  },
  {
   "cell_type": "code",
   "execution_count": null,
   "metadata": {
    "colab": {
     "base_uri": "https://localhost:8080/"
    },
    "id": "t1vxtHpWLm2h",
    "outputId": "cbb574c3-02ec-4036-8cd4-eb93f70182d7"
   },
   "outputs": [],
   "source": [
    "#@title Install dependencies\n",
    "\n",
    "!pip install numpy==1.23.0 imageio==2.9.0 matplotlib==3.2.2"
   ]
  },
  {
   "cell_type": "code",
   "execution_count": null,
   "metadata": {
    "colab": {
     "base_uri": "https://localhost:8080/"
    },
    "id": "Y91O-kNH_Voh",
    "outputId": "9e7dda41-b51c-47db-935b-da8d69311686"
   },
   "outputs": [],
   "source": [
    "#@title Clone homework repo\n",
    "\n",
    "%cd $SYM_PATH\n",
    "if not os.path.exists(REPO_NAME):\n",
    "  !git clone https://github.com/Berkeley-CS182/cs182fa23_public.git\n",
    "%cd cs182fa23_public/hw/hw1/code/networks/problem"
   ]
  },
  {
   "cell_type": "code",
   "metadata": {
    "colab": {
     "base_uri": "https://localhost:8080/"
    },
    "id": "VySbxDdnB6Ng",
    "outputId": "d524b4e0-926b-419b-fd65-1930f46a3b30",
    "ExecuteTime": {
     "end_time": "2025-06-03T04:36:47.814801Z",
     "start_time": "2025-06-03T04:36:47.676518Z"
    }
   },
   "source": [
    "#@title Download datasets\n",
    "\n",
    "%cd deeplearning/datasets/\n",
    "!bash ./get_datasets.sh\n",
    "%cd ../.."
   ],
   "outputs": [
    {
     "name": "stdout",
     "output_type": "stream",
     "text": [
      "/Users/whe/Desktop/cs182/hw0code (1)/deeplearning/datasets\n",
      "./get_datasets.sh: line 2: wget: command not found\r\n",
      "tar: Error opening archive: Failed to open 'cifar-10-python.tar.gz'\r\n",
      "rm: cifar-10-python.tar.gz: No such file or directory\r\n",
      "/Users/whe/Desktop/cs182/hw0code (1)\n"
     ]
    }
   ],
   "execution_count": 10
  },
  {
   "cell_type": "code",
   "metadata": {
    "id": "pUR1MUuVA4Cs",
    "ExecuteTime": {
     "end_time": "2025-06-03T04:38:10.982495Z",
     "start_time": "2025-06-03T04:38:10.673728Z"
    }
   },
   "source": [
    "#@title Configure Jupyter Notebook\n",
    "\n",
    "import matplotlib\n",
    "%matplotlib inline\n",
    "%load_ext autoreload\n",
    "%autoreload 2\n"
   ],
   "outputs": [],
   "execution_count": 1
  },
  {
   "cell_type": "markdown",
   "metadata": {
    "id": "YybdAopk-mvQ"
   },
   "source": [
    "# Fully-Connected Neural Nets\n",
    "\n",
    "In this notebook we will implement fully-connected networks using a modular approach. For each layer we will implement a `forward` and a `backward` function. The `forward` function will receive inputs, weights, and other parameters and will return both an output and a `cache` object storing data needed for the backward pass, like this:\n",
    "\n",
    "```python\n",
    "def layer_forward(x, w):\n",
    "  \"\"\" Receive inputs x and weights w \"\"\"\n",
    "  # Do some computations ...\n",
    "  z = # ... some intermediate value\n",
    "  # Do some more computations ...\n",
    "  out = # the output\n",
    "   \n",
    "  cache = (x, w, z, out) # Values we need to compute gradients\n",
    "  \n",
    "  return out, cache\n",
    "```\n",
    "\n",
    "The backward pass will receive upstream derivatives and the `cache` object, and will return gradients with respect to the inputs and weights, like this:\n",
    "\n",
    "```python\n",
    "def layer_backward(dout, cache):\n",
    "  \"\"\"\n",
    "  Receive derivative of loss with respect to outputs and cache,\n",
    "  and compute derivative with respect to inputs.\n",
    "  \"\"\"\n",
    "  # Unpack cache values\n",
    "  x, w, z, out = cache\n",
    "  \n",
    "  # Use values in cache to compute derivatives\n",
    "  dx = # Derivative of loss with respect to x\n",
    "  dw = # Derivative of loss with respect to w\n",
    "  \n",
    "  return dx, dw\n",
    "```\n",
    "\n",
    "After implementing a bunch of layers this way, we will be able to easily combine them to build classifiers with different architectures."
   ]
  },
  {
   "cell_type": "code",
   "metadata": {
    "id": "5rY3whPq-mvT",
    "ExecuteTime": {
     "end_time": "2025-06-03T04:38:14.067169Z",
     "start_time": "2025-06-03T04:38:13.875829Z"
    }
   },
   "source": [
    "# As usual, a bit of setup\n",
    "\n",
    "import time\n",
    "import numpy as np\n",
    "import matplotlib.pyplot as plt\n",
    "from deeplearning.classifiers.fc_net import *\n",
    "from deeplearning.data_utils import get_CIFAR10_data\n",
    "from deeplearning.gradient_check import eval_numerical_gradient, eval_numerical_gradient_array\n",
    "from deeplearning.solver import Solver\n",
    "\n",
    "plt.rcParams['figure.figsize'] = (10.0, 8.0) # set default size of plots\n",
    "plt.rcParams['image.interpolation'] = 'nearest'\n",
    "plt.rcParams['image.cmap'] = 'gray'\n",
    "\n",
    "# for auto-reloading external modules\n",
    "# see http://stackoverflow.com/questions/1907993/autoreload-of-modules-in-ipython\n",
    "\n",
    "def rel_error(x, y):\n",
    "    \"\"\" returns relative error \"\"\"\n",
    "    return np.max(np.abs(x - y) / (np.maximum(1e-8, np.abs(x) + np.abs(y))))"
   ],
   "outputs": [],
   "execution_count": 2
  },
  {
   "cell_type": "code",
   "metadata": {
    "colab": {
     "base_uri": "https://localhost:8080/"
    },
    "id": "Hx39aHp5-mvU",
    "outputId": "c308158c-16de-40cc-dfe9-ec35959f7de1",
    "ExecuteTime": {
     "end_time": "2025-06-03T04:38:17.710217Z",
     "start_time": "2025-06-03T04:38:16.110890Z"
    }
   },
   "source": [
    "# Lddoad the (preprocessed) CIFAR10 data.\n",
    "\n",
    "data = get_CIFAR10_data()\n",
    "for k, v in data.items():\n",
    "    print('%s: ' % k, v.shape)"
   ],
   "outputs": [
    {
     "name": "stdout",
     "output_type": "stream",
     "text": [
      "deeplearning/datasets/cifar-10-batches-py/data_batch_1\n",
      "deeplearning/datasets/cifar-10-batches-py/data_batch_2\n",
      "deeplearning/datasets/cifar-10-batches-py/data_batch_3\n",
      "deeplearning/datasets/cifar-10-batches-py/data_batch_4\n",
      "deeplearning/datasets/cifar-10-batches-py/data_batch_5\n",
      "deeplearning/datasets/cifar-10-batches-py/test_batch\n",
      "X_train:  (49000, 3, 32, 32)\n",
      "y_train:  (49000,)\n",
      "X_val:  (1000, 3, 32, 32)\n",
      "y_val:  (1000,)\n",
      "X_test:  (1000, 3, 32, 32)\n",
      "y_test:  (1000,)\n"
     ]
    }
   ],
   "execution_count": 3
  },
  {
   "cell_type": "markdown",
   "metadata": {
    "id": "YxQO9UBq-mvU"
   },
   "source": [
    "# Affine layer: forward\n",
    "Open the file `deeplearning/layers.py` and implement the `affine_forward` function.\n",
    "\n",
    "Once you are done you can test your implementaion by running the following:"
   ]
  },
  {
   "cell_type": "code",
   "metadata": {
    "colab": {
     "base_uri": "https://localhost:8080/"
    },
    "id": "wKjg1INq-mvU",
    "outputId": "1111171e-bfd5-4ba7-9833-dd0d9178e872",
    "ExecuteTime": {
     "end_time": "2025-05-29T11:14:45.227316Z",
     "start_time": "2025-05-29T11:14:45.212455Z"
    }
   },
   "source": [
    "# Test the affine_forward function\n",
    "\n",
    "num_inputs = 2\n",
    "input_shape = (4, 5, 6)\n",
    "output_dim = 3\n",
    "\n",
    "input_size = num_inputs * np.prod(input_shape)\n",
    "weight_size = output_dim * np.prod(input_shape)\n",
    "\n",
    "x = np.linspace(-0.1, 0.5, num=input_size).reshape(num_inputs, *input_shape)\n",
    "w = np.linspace(-0.2, 0.3, num=weight_size).reshape(np.prod(input_shape), output_dim)\n",
    "b = np.linspace(-0.3, 0.1, num=output_dim)\n",
    "\n",
    "out, _ = affine_forward(x, w, b)\n",
    "correct_out = np.array([[ 1.49834967,  1.70660132,  1.91485297],\n",
    "                        [ 3.25553199,  3.5141327,   3.77273342]])\n",
    "\n",
    "# Compare your output with ours. The error should be around 1e-9.\n",
    "print('Testing affine_forward function:')\n",
    "print('difference: ', rel_error(out, correct_out))"
   ],
   "outputs": [
    {
     "name": "stdout",
     "output_type": "stream",
     "text": [
      "Testing affine_forward function:\n",
      "difference:  9.769849468192957e-10\n"
     ]
    }
   ],
   "execution_count": 6
  },
  {
   "cell_type": "markdown",
   "metadata": {
    "id": "SZmNs2sS-mvU"
   },
   "source": [
    "# Affine layer: backward\n",
    "Now implement the `affine_backward` function and test your implementation using numeric gradient checking."
   ]
  },
  {
   "cell_type": "code",
   "metadata": {
    "colab": {
     "base_uri": "https://localhost:8080/"
    },
    "id": "NSlcsBNY-mvV",
    "outputId": "35dd9b64-8bcd-4e27-9859-a8b49de1a2e7",
    "ExecuteTime": {
     "end_time": "2025-05-29T11:14:47.417458Z",
     "start_time": "2025-05-29T11:14:47.400391Z"
    }
   },
   "source": [
    "# Test the affine_backward function\n",
    "\n",
    "x = np.random.randn(10, 2, 3)\n",
    "w = np.random.randn(6, 5)\n",
    "b = np.random.randn(5)\n",
    "dout = np.random.randn(10, 5)\n",
    "\n",
    "dx_num = eval_numerical_gradient_array(lambda x: affine_forward(x, w, b)[0], x, dout)\n",
    "dw_num = eval_numerical_gradient_array(lambda w: affine_forward(x, w, b)[0], w, dout)\n",
    "db_num = eval_numerical_gradient_array(lambda b: affine_forward(x, w, b)[0], b, dout)\n",
    "\n",
    "_, cache = affine_forward(x, w, b)\n",
    "dx, dw, db = affine_backward(dout, cache)\n",
    "# The error should be around 1e-10\n",
    "print('Testing affine_backward function:')\n",
    "print('dx error: ', rel_error(dx_num, dx))\n",
    "print('dw error: ', rel_error(dw_num, dw))\n",
    "print('db error: ', rel_error(db_num, db))"
   ],
   "outputs": [
    {
     "name": "stdout",
     "output_type": "stream",
     "text": [
      "Testing affine_backward function:\n",
      "dx error:  1.0014324505332067e-09\n",
      "dw error:  3.3985249079143684e-10\n",
      "db error:  4.752952320836708e-12\n"
     ]
    }
   ],
   "execution_count": 7
  },
  {
   "cell_type": "markdown",
   "metadata": {
    "id": "vzIyC-vm-mvV"
   },
   "source": [
    "# ReLU layer: forward\n",
    "Implement the forward pass for the ReLU activation function in the `relu_forward` function and test your implementation using the following:"
   ]
  },
  {
   "cell_type": "code",
   "metadata": {
    "colab": {
     "base_uri": "https://localhost:8080/"
    },
    "id": "FVp_m32X-mvW",
    "outputId": "6d485d62-a0a7-4b66-cdb3-b04ca1dd6407",
    "ExecuteTime": {
     "end_time": "2025-05-29T11:14:49.720888Z",
     "start_time": "2025-05-29T11:14:49.708417Z"
    }
   },
   "source": [
    "# Test the relu_forward function\n",
    "\n",
    "x = np.linspace(-0.5, 0.5, num=12).reshape(3, 4)\n",
    "\n",
    "out, _ = relu_forward(x)\n",
    "correct_out = np.array([[ 0.,          0.,          0.,          0.,        ],\n",
    "                        [ 0.,          0.,          0.04545455,  0.13636364,],\n",
    "                        [ 0.22727273,  0.31818182,  0.40909091,  0.5,       ]])\n",
    "\n",
    "# Compare your output with ours. The error should be around 1e-8\n",
    "print('Testing relu_forward function:')\n",
    "print('difference: ', rel_error(out, correct_out))"
   ],
   "outputs": [
    {
     "name": "stdout",
     "output_type": "stream",
     "text": [
      "Testing relu_forward function:\n",
      "difference:  4.999999798022158e-08\n"
     ]
    }
   ],
   "execution_count": 8
  },
  {
   "cell_type": "markdown",
   "metadata": {
    "id": "0lFnqSVx-mvW"
   },
   "source": [
    "# ReLU layer: backward\n",
    "Now implement the backward pass for the ReLU activation function in the `relu_backward` function and test your implementation using numeric gradient checking. Note that the ReLU activation is not differentiable at 0, but typically we don't worry about this and simply assign either 0 or 1 as the derivative by convention."
   ]
  },
  {
   "cell_type": "code",
   "metadata": {
    "colab": {
     "base_uri": "https://localhost:8080/"
    },
    "id": "HO4dcVkF-mvW",
    "outputId": "ef38a98e-6acf-406d-8326-5f5c5321fedf",
    "ExecuteTime": {
     "end_time": "2025-05-29T11:14:52.526447Z",
     "start_time": "2025-05-29T11:14:52.514073Z"
    }
   },
   "source": [
    "x = np.random.randn(10, 10)\n",
    "dout = np.random.randn(*x.shape)\n",
    "\n",
    "dx_num = eval_numerical_gradient_array(lambda x: relu_forward(x)[0], x, dout)\n",
    "\n",
    "_, cache = relu_forward(x)\n",
    "dx = relu_backward(dout, cache)\n",
    "\n",
    "# The error should be around 1e-12\n",
    "print('Testing relu_backward function:')\n",
    "print('dx error: ', rel_error(dx_num, dx))"
   ],
   "outputs": [
    {
     "name": "stdout",
     "output_type": "stream",
     "text": [
      "Testing relu_backward function:\n",
      "dx error:  3.2756323395679927e-12\n"
     ]
    }
   ],
   "execution_count": 9
  },
  {
   "cell_type": "markdown",
   "metadata": {
    "id": "FMGbkcFm-mvX"
   },
   "source": [
    "# \"Sandwich\" layers\n",
    "There are some common patterns of layers that are frequently used in neural nets. For example, affine layers are frequently followed by a ReLU nonlinearity. To make these common patterns easy, we define several convenience layers in the file `deeplearning/layer_utils.py`.\n",
    "\n",
    "For now take a look at the `affine_relu_forward` and `affine_relu_backward` functions, and run the following to numerically gradient check the backward pass:"
   ]
  },
  {
   "cell_type": "code",
   "metadata": {
    "colab": {
     "base_uri": "https://localhost:8080/"
    },
    "id": "W5helswW-mvX",
    "outputId": "1c3bc805-30b0-4f76-9853-c9f7e4772079",
    "ExecuteTime": {
     "end_time": "2025-05-29T11:14:54.467228Z",
     "start_time": "2025-05-29T11:14:54.450979Z"
    }
   },
   "source": [
    "from deeplearning.layer_utils import affine_relu_forward, affine_relu_backward\n",
    "\n",
    "x = np.random.randn(2, 3, 4)\n",
    "w = np.random.randn(12, 10)\n",
    "b = np.random.randn(10)\n",
    "dout = np.random.randn(2, 10)\n",
    "\n",
    "out, cache = affine_relu_forward(x, w, b)\n",
    "dx, dw, db = affine_relu_backward(dout, cache)\n",
    "\n",
    "dx_num = eval_numerical_gradient_array(lambda x: affine_relu_forward(x, w, b)[0], x, dout)\n",
    "dw_num = eval_numerical_gradient_array(lambda w: affine_relu_forward(x, w, b)[0], w, dout)\n",
    "db_num = eval_numerical_gradient_array(lambda b: affine_relu_forward(x, w, b)[0], b, dout)\n",
    "\n",
    "print('Testing affine_relu_forward:')\n",
    "print('dx error: ', rel_error(dx_num, dx))\n",
    "print('dw error: ', rel_error(dw_num, dw))\n",
    "print('db error: ', rel_error(db_num, db))"
   ],
   "outputs": [
    {
     "name": "stdout",
     "output_type": "stream",
     "text": [
      "Testing affine_relu_forward:\n",
      "dx error:  7.34559828185319e-08\n",
      "dw error:  1.141262039746055e-09\n",
      "db error:  1.0875798473680068e-11\n"
     ]
    }
   ],
   "execution_count": 10
  },
  {
   "cell_type": "markdown",
   "metadata": {
    "id": "IX09N9oU-mvX"
   },
   "source": [
    "# Loss layers: Softmax and SVM\n",
    "Here we provide two loss functions that we will use to train our deep neural networks. You should understand how they work by looking at the implementations in `deeplearning/layers.py`.\n",
    "\n",
    "You can make sure that the implementations are correct by running the following:"
   ]
  },
  {
   "cell_type": "code",
   "metadata": {
    "colab": {
     "base_uri": "https://localhost:8080/"
    },
    "id": "g4dcun9X-mvX",
    "outputId": "1495020d-fb7c-4668-a05a-723c03195e6c",
    "ExecuteTime": {
     "end_time": "2025-05-29T11:14:56.785316Z",
     "start_time": "2025-05-29T11:14:56.730306Z"
    }
   },
   "source": [
    "num_classes, num_inputs = 10, 50\n",
    "x = 0.001 * np.random.randn(num_inputs, num_classes)\n",
    "y = np.random.randint(num_classes, size=num_inputs)\n",
    "\n",
    "dx_num = eval_numerical_gradient(lambda x: svm_loss(x, y)[0], x, verbose=False)\n",
    "loss, dx = svm_loss(x, y)\n",
    "\n",
    "# Test svm_loss function. Loss should be around 9 and dx error should be 1e-9\n",
    "print('Testing svm_loss:')\n",
    "print('loss: ', loss)\n",
    "print('dx error: ', rel_error(dx_num, dx))\n",
    "\n",
    "dx_num = eval_numerical_gradient(lambda x: softmax_loss(x, y)[0], x, verbose=False)\n",
    "loss, dx = softmax_loss(x, y)\n",
    "\n",
    "# Test softmax_loss function. Loss should be 2.3 and dx error should be 1e-8\n",
    "print('\\nTesting softmax_loss:')\n",
    "print('loss: ', loss)\n",
    "print('dx error: ', rel_error(dx_num, dx))"
   ],
   "outputs": [
    {
     "name": "stdout",
     "output_type": "stream",
     "text": [
      "Testing svm_loss:\n",
      "loss:  8.999175472570773\n",
      "dx error:  1.4021566006651672e-09\n",
      "\n",
      "Testing softmax_loss:\n",
      "loss:  2.3025030978717886\n",
      "dx error:  9.436790382986344e-09\n"
     ]
    }
   ],
   "execution_count": 11
  },
  {
   "cell_type": "markdown",
   "metadata": {
    "id": "-YbkT7kZ-mvY"
   },
   "source": [
    "# Two-layer network\n",
    "\n",
    "Open the file `deeplearning/classifiers/fc_net.py` and complete the implementation of the `TwoLayerNet` class. This class will serve as a model for the other networks you will implement in this assignment, so read through it to make sure you understand the API. Run the cell below to test your implementation."
   ]
  },
  {
   "cell_type": "code",
   "metadata": {
    "colab": {
     "base_uri": "https://localhost:8080/"
    },
    "id": "YW5b1kBz-mvY",
    "outputId": "7c2f4004-d226-42ff-ac72-c547d153421a",
    "ExecuteTime": {
     "end_time": "2025-06-03T05:50:53.272818Z",
     "start_time": "2025-06-03T05:50:52.834278Z"
    }
   },
   "source": [
    "N, D, H, C = 3, 5, 50, 7\n",
    "X = np.random.randn(N, D)\n",
    "y = np.random.randint(C, size=N)\n",
    "\n",
    "std = 1e-2\n",
    "model = TwoLayerNet(input_dim=D, hidden_dim=H, num_classes=C, weight_scale=std)\n",
    "\n",
    "print ('Testing initialization ... ')\n",
    "W1_std = abs(model.params['W1'].std() - std)\n",
    "b1 = model.params['b1']\n",
    "W2_std = abs(model.params['W2'].std() - std)\n",
    "b2 = model.params['b2']\n",
    "assert W1_std < std / 10, 'First layer weights do not seem right'\n",
    "assert np.all(b1 == 0), 'First layer biases do not seem right'\n",
    "assert W2_std < std / 10, 'Second layer weights do not seem right'\n",
    "assert np.all(b2 == 0), 'Second layer biases do not seem right'\n",
    "\n",
    "print ('Testing test-time forward pass ... ')\n",
    "model.params['W1'] = np.linspace(-0.7, 0.3, num=D*H).reshape(D, H)\n",
    "model.params['b1'] = np.linspace(-0.1, 0.9, num=H)\n",
    "model.params['W2'] = np.linspace(-0.3, 0.4, num=H*C).reshape(H, C)\n",
    "model.params['b2'] = np.linspace(-0.9, 0.1, num=C)\n",
    "X = np.linspace(-5.5, 4.5, num=N*D).reshape(D, N).T\n",
    "scores = model.loss(X)\n",
    "correct_scores = np.asarray(\n",
    "  [[11.53165108,  12.2917344,   13.05181771,  13.81190102,  14.57198434, 15.33206765,  16.09215096],\n",
    "   [12.05769098,  12.74614105,  13.43459113,  14.1230412,   14.81149128, 15.49994135,  16.18839143],\n",
    "   [12.58373087,  13.20054771,  13.81736455,  14.43418138,  15.05099822, 15.66781506,  16.2846319 ]])\n",
    "scores_diff = np.abs(scores - correct_scores).sum()\n",
    "assert scores_diff < 1e-6, 'Problem with test-time forward pass'\n",
    "\n",
    "print ('Testing training loss (no regularization)')\n",
    "y = np.asarray([0, 5, 1])\n",
    "loss, grads = model.loss(X, y)\n",
    "correct_loss = 3.4702243556\n",
    "assert abs(loss - correct_loss) < 1e-10, 'Problem with training-time loss'\n",
    "\n",
    "model.reg = 1.0\n",
    "loss, grads = model.loss(X, y)\n",
    "correct_loss = 26.5948426952\n",
    "assert abs(loss - correct_loss) < 1e-10, 'Problem with regularization loss'\n",
    "\n",
    "for reg in [0.0, 0.7]:\n",
    "    print ('Running numeric gradient check with reg = ', reg)\n",
    "    model.reg = reg\n",
    "    loss, grads = model.loss(X, y)\n",
    "\n",
    "    for name in sorted(grads):\n",
    "        f = lambda _: model.loss(X, y)[0]\n",
    "        grad_num = eval_numerical_gradient(f, model.params[name], verbose=False)\n",
    "        print ('%s relative error: %.2e' % (name, rel_error(grad_num, grads[name])))"
   ],
   "outputs": [
    {
     "name": "stdout",
     "output_type": "stream",
     "text": [
      "Testing initialization ... \n",
      "Testing test-time forward pass ... \n",
      "Testing training loss (no regularization)\n",
      "Running numeric gradient check with reg =  0.0\n",
      "W1 relative error: 1.52e-08\n",
      "W2 relative error: 3.21e-10\n",
      "b1 relative error: 8.37e-09\n",
      "b2 relative error: 4.33e-10\n",
      "Running numeric gradient check with reg =  0.7\n",
      "W1 relative error: 2.53e-07\n",
      "W2 relative error: 2.85e-08\n",
      "b1 relative error: 1.56e-08\n",
      "b2 relative error: 7.76e-10\n"
     ]
    }
   ],
   "execution_count": 24
  },
  {
   "cell_type": "markdown",
   "metadata": {
    "id": "yVHZ1jBn-mvY"
   },
   "source": [
    "# Solver\n",
    "Following a modular design, for this assignment we have split the logic for training models into a separate class from the models themselves.\n",
    "\n",
    "Open the file `deeplearning/solver.py` and read through it to familiarize yourself with the API. After doing so, use a `Solver` instance to train a `TwoLayerNet` that achieves at least `50%` accuracy on the validation set."
   ]
  },
  {
   "cell_type": "code",
   "metadata": {
    "colab": {
     "base_uri": "https://localhost:8080/"
    },
    "id": "60ll4Dnl-mvY",
    "outputId": "9514c284-2145-4add-f71e-5ce9158d1358",
    "ExecuteTime": {
     "end_time": "2025-06-03T05:51:38.446792Z",
     "start_time": "2025-06-03T05:51:02.123055Z"
    }
   },
   "source": [
    "model = TwoLayerNet(reg=1)\n",
    "optim_config = {}\n",
    "optim_config['learning_rate'] = 0.001\n",
    "solver = Solver(model, data, print_every=500, optim_config=optim_config, lr_decay=0.9, )\n",
    "solver.train()\n",
    "print(solver.check_accuracy(data['X_test'], data['y_test']))\n",
    "\n",
    "##############################################################################\n",
    "# TODO: Use a Solver instance to train a TwoLayerNet that achieves at least  #\n",
    "# 50% accuracy on the validation set.                                        #\n",
    "##############################################################################\n",
    "##############################################################################\n",
    "#                             END OF YOUR CODE                               #\n",
    "##############################################################################"
   ],
   "outputs": [
    {
     "name": "stdout",
     "output_type": "stream",
     "text": [
      "(Iteration 1 / 4900) loss: 2.455134\n",
      "(Epoch 0 / 10) train acc: 0.161000; val_acc: 0.155000\n",
      "(Epoch 1 / 10) train acc: 0.423000; val_acc: 0.434000\n",
      "(Iteration 501 / 4900) loss: 1.619936\n",
      "(Epoch 2 / 10) train acc: 0.484000; val_acc: 0.465000\n",
      "(Iteration 1001 / 4900) loss: 1.523469\n",
      "(Epoch 3 / 10) train acc: 0.489000; val_acc: 0.478000\n",
      "(Iteration 1501 / 4900) loss: 1.445179\n",
      "(Epoch 4 / 10) train acc: 0.514000; val_acc: 0.497000\n",
      "(Iteration 2001 / 4900) loss: 1.587409\n",
      "(Epoch 5 / 10) train acc: 0.526000; val_acc: 0.486000\n",
      "(Iteration 2501 / 4900) loss: 1.467517\n",
      "(Epoch 6 / 10) train acc: 0.545000; val_acc: 0.510000\n",
      "(Iteration 3001 / 4900) loss: 1.548250\n",
      "(Epoch 7 / 10) train acc: 0.555000; val_acc: 0.521000\n",
      "(Iteration 3501 / 4900) loss: 1.578810\n",
      "(Epoch 8 / 10) train acc: 0.560000; val_acc: 0.496000\n",
      "(Iteration 4001 / 4900) loss: 1.540536\n",
      "(Epoch 9 / 10) train acc: 0.554000; val_acc: 0.506000\n",
      "(Iteration 4501 / 4900) loss: 1.491959\n",
      "(Epoch 10 / 10) train acc: 0.555000; val_acc: 0.514000\n",
      "0.515\n"
     ]
    }
   ],
   "execution_count": 25
  },
  {
   "cell_type": "code",
   "metadata": {
    "colab": {
     "base_uri": "https://localhost:8080/",
     "height": 730
    },
    "id": "aoDlB7B3-mvZ",
    "outputId": "787f8ed1-208a-4259-bf47-141a1826ddbf",
    "ExecuteTime": {
     "end_time": "2025-06-03T04:45:44.281066Z",
     "start_time": "2025-06-03T04:45:44.022117Z"
    }
   },
   "source": [
    "# Run this cell to visualize training loss and train / val accuracy, and save the log file of the\n",
    "# experiment for submission.\n",
    "\n",
    "plt.subplot(2, 1, 1)\n",
    "plt.title('Training loss')\n",
    "plt.plot(solver.loss_history, 'o')\n",
    "plt.xlabel('Iteration')\n",
    "\n",
    "plt.subplot(2, 1, 2)\n",
    "plt.title('Accuracy')\n",
    "plt.plot(solver.train_acc_history, '-o', label='train')\n",
    "plt.plot(solver.val_acc_history, '-o', label='val')\n",
    "plt.plot([0.5] * len(solver.val_acc_history), 'k--')\n",
    "plt.xlabel('Epoch')\n",
    "plt.legend(loc='lower right')\n",
    "plt.gcf().set_size_inches(15, 12)\n",
    "plt.savefig('fc_net.png')\n",
    "plt.show()"
   ],
   "outputs": [
    {
     "data": {
      "text/plain": [
       "<Figure size 1500x1200 with 2 Axes>"
      ],
      "image/png": "[encoded data removed]"
     },
     "metadata": {},
     "output_type": "display_data"
    }
   ],
   "execution_count": 11
  },
  {
   "cell_type": "markdown",
   "metadata": {
    "id": "fPnhOwgs-mvZ"
   },
   "source": [
    "# Multilayer network\n",
    "Next you will implement a fully-connected network with an arbitrary number of hidden layers.\n",
    "\n",
    "Read through the `FullyConnectedNet` class in the file `deeplearning/classifiers/fc_net.py`.\n",
    "\n",
    "Implement the initialization, the forward pass, and the backward pass. For the moment don't worry about implementing dropout or batch normalization; we will add those features soon."
   ]
  },
  {
   "cell_type": "markdown",
   "metadata": {
    "id": "acYmIpOa-mvZ"
   },
   "source": [
    "## Initial loss and gradient check"
   ]
  },
  {
   "cell_type": "markdown",
   "metadata": {
    "id": "Jn4a9lIr-mvZ"
   },
   "source": [
    "As a sanity check, run the following to check the initial loss and to gradient check the network both with and without regularization. Do the initial losses seem reasonable?\n",
    "\n",
    "For gradient checking, you should expect to see errors around 1e-6 or less."
   ]
  },
  {
   "cell_type": "code",
   "metadata": {
    "colab": {
     "base_uri": "https://localhost:8080/"
    },
    "id": "l2GgWqb6-mvZ",
    "outputId": "abfa5034-c4f8-4244-ca71-9ff0fee52901",
    "ExecuteTime": {
     "end_time": "2025-06-03T05:57:25.770786Z",
     "start_time": "2025-06-03T05:57:25.488619Z"
    }
   },
   "source": [
    "N, D, H1, H2, C = 2, 15, 20, 30, 10\n",
    "X = np.random.randn(N, D)\n",
    "y = np.random.randint(C, size=(N,))\n",
    "\n",
    "for reg in [0, 3.14]:\n",
    "    print ('Running check with reg = ', reg)\n",
    "    model = FullyConnectedNet([H1, H2], input_dim=D, num_classes=C,\n",
    "                              reg=reg, weight_scale=5e-2, dtype=np.float64)\n",
    "\n",
    "    loss, grads = model.loss(X, y)\n",
    "    print ('Initial loss: ', loss)\n",
    "\n",
    "    for name in sorted(grads):\n",
    "        f = lambda _: model.loss(X, y)[0]\n",
    "        grad_num = eval_numerical_gradient(f, model.params[name], verbose=False, h=1e-5)\n",
    "        print ('%s relative error: %.2e' % (name, rel_error(grad_num, grads[name])))"
   ],
   "outputs": [
    {
     "name": "stdout",
     "output_type": "stream",
     "text": [
      "Running check with reg =  0\n",
      "Initial loss:  2.3039528549598742\n",
      "W1 relative error: 7.18e-07\n",
      "[[-1.47331636e-04  4.58617810e-04 -1.37373402e-03  1.07934328e-05\n",
      "  -2.15853766e-03  0.00000000e+00 -4.88532681e-03  0.00000000e+00\n",
      "  -7.41579242e-05  3.12505399e-04  0.00000000e+00 -8.21303026e-05\n",
      "   5.37073053e-04 -1.44211418e-03  0.00000000e+00  0.00000000e+00\n",
      "  -8.57468607e-04  0.00000000e+00  1.52247548e-03 -1.38890963e-03]\n",
      " [-6.95143518e-03  1.69754366e-04  1.38061997e-03  5.09258724e-04\n",
      "   3.91055170e-03  0.00000000e+00  1.20342746e-02  0.00000000e+00\n",
      "  -3.49893661e-03 -5.66155789e-04  0.00000000e+00 -3.87509034e-03\n",
      "  -9.72997549e-04  5.61577174e-03  0.00000000e+00  0.00000000e+00\n",
      "   1.55344764e-03  0.00000000e+00 -2.75821883e-03  2.51624190e-03]\n",
      " [ 1.06483673e-02 -3.46317819e-04 -1.84881903e-03 -7.80094167e-04\n",
      "  -5.56523820e-03  0.00000000e+00 -1.74596195e-02  0.00000000e+00\n",
      "   5.35975104e-03  8.05715383e-04  0.00000000e+00  5.93595193e-03\n",
      "   1.38470566e-03 -8.30633329e-03  0.00000000e+00  0.00000000e+00\n",
      "  -2.21076384e-03  0.00000000e+00  3.92531438e-03 -3.58094883e-03]\n",
      " [ 5.21193697e-03 -8.15092838e-04  1.08565605e-03 -3.81823928e-04\n",
      "   4.56182225e-04  0.00000000e+00 -1.25255912e-03  0.00000000e+00\n",
      "   2.62337727e-03 -6.60444588e-05  0.00000000e+00  2.90540383e-03\n",
      "  -1.13504250e-04 -1.85065874e-03  0.00000000e+00  0.00000000e+00\n",
      "   1.81216153e-04  0.00000000e+00 -3.21757776e-04  2.93530134e-04]\n",
      " [ 4.44669057e-03  1.25911881e-04 -1.60620561e-03 -3.25762373e-04\n",
      "  -3.65664348e-03  0.00000000e+00 -1.03472414e-02  0.00000000e+00\n",
      "   2.23819803e-03  5.29395816e-04  0.00000000e+00  2.47881582e-03\n",
      "   9.09821773e-04 -4.39684573e-03  0.00000000e+00  0.00000000e+00\n",
      "  -1.45258385e-03  0.00000000e+00  2.57913044e-03 -2.35286484e-03]\n",
      " [ 5.58906688e-03 -7.06804082e-04  6.48463661e-04 -4.09452294e-04\n",
      "  -3.34767791e-04  0.00000000e+00 -3.23282867e-03  0.00000000e+00\n",
      "   2.81320189e-03  4.84664975e-05  0.00000000e+00  3.11563557e-03\n",
      "   8.32946823e-05 -2.55845340e-03  0.00000000e+00  0.00000000e+00\n",
      "  -1.32984868e-04  0.00000000e+00  2.36120856e-04 -2.15406115e-04]\n",
      " [ 4.36177234e-03 -4.54534432e-04  2.06785344e-04 -3.19541305e-04\n",
      "  -7.39390194e-04  0.00000000e+00 -3.61947006e-03  0.00000000e+00\n",
      "   2.19545524e-03  1.07046283e-04  0.00000000e+00  2.43147800e-03\n",
      "   1.83970150e-04 -2.32966415e-03  0.00000000e+00  0.00000000e+00\n",
      "  -2.93719138e-04  0.00000000e+00  5.21512034e-04 -4.75760098e-04]\n",
      " [ 8.48180726e-03 -2.02665171e-03  3.92570665e-03 -6.21373042e-04\n",
      "   4.19148058e-03  0.00000000e+00  5.87163989e-03  0.00000000e+00\n",
      "   4.26923432e-03 -6.06827655e-04  0.00000000e+00  4.72819903e-03\n",
      "  -1.04289641e-03 -6.09447603e-04  0.00000000e+00  0.00000000e+00\n",
      "   1.66504528e-03  0.00000000e+00 -2.95636564e-03  2.69700537e-03]\n",
      " [ 9.24505119e-03 -4.83775509e-04 -1.04061004e-03 -6.77287892e-04\n",
      "  -3.92987574e-03  0.00000000e+00 -1.30902021e-02  0.00000000e+00\n",
      "   4.65340568e-03  5.68953418e-04  0.00000000e+00  5.15367078e-03\n",
      "   9.77805614e-04 -6.58347257e-03  0.00000000e+00  0.00000000e+00\n",
      "  -1.56112405e-03  0.00000000e+00  2.77184860e-03 -2.52867591e-03]\n",
      " [-4.35055489e-03 -2.76195822e-04  2.04325472e-03  3.18719517e-04\n",
      "   4.33129348e-03  0.00000000e+00  1.18520569e-02  0.00000000e+00\n",
      "  -2.18980907e-03 -6.27069285e-04  0.00000000e+00 -2.42522482e-03\n",
      "  -1.07768372e-03  4.82673945e-03  0.00000000e+00  0.00000000e+00\n",
      "   1.72058527e-03  0.00000000e+00 -3.05497947e-03  2.78696790e-03]\n",
      " [ 6.42967428e-03 -2.12508056e-04 -1.10588143e-03 -4.71034789e-04\n",
      "  -3.34366572e-03  0.00000000e+00 -1.05040747e-02  0.00000000e+00\n",
      "   3.23631337e-03  4.84084017e-04  0.00000000e+00  3.58423375e-03\n",
      "   8.31948732e-04 -5.00386383e-03  0.00000000e+00  0.00000000e+00\n",
      "  -1.32825497e-03  0.00000000e+00  2.35837867e-03 -2.15147948e-03]\n",
      " [ 4.90552488e-04  4.48695969e-05 -2.72714540e-04 -3.59376306e-05\n",
      "  -5.55998358e-04  0.00000000e+00 -1.49146604e-03  0.00000000e+00\n",
      "   2.46914778e-04  8.04954770e-05  0.00000000e+00  2.73459388e-04\n",
      "   1.38339806e-04 -5.91340710e-04  0.00000000e+00  0.00000000e+00\n",
      "  -2.20867635e-04  0.00000000e+00  3.92160837e-04 -3.57756802e-04]\n",
      " [-1.01609954e-02  1.85305848e-03 -2.93051559e-03  7.44389528e-04\n",
      "  -2.18973710e-03  0.00000000e+00 -5.40303513e-04  0.00000000e+00\n",
      "  -5.11443718e-03  3.17022364e-04  0.00000000e+00 -5.66426555e-03\n",
      "   5.44835865e-04  2.70226532e-03  0.00000000e+00  0.00000000e+00\n",
      "  -8.69862427e-04  0.00000000e+00  1.54448134e-03 -1.40898488e-03]\n",
      " [ 8.88897409e-03 -1.60879021e-03  2.52575942e-03 -6.51201892e-04\n",
      "   1.85507090e-03  0.00000000e+00  3.33823924e-04  0.00000000e+00\n",
      "   4.47417776e-03 -2.68570544e-04  0.00000000e+00  4.95517494e-03\n",
      "  -4.61566430e-04 -2.40614368e-03  0.00000000e+00  0.00000000e+00\n",
      "   7.36917904e-04  0.00000000e+00 -1.30843212e-03  1.19364412e-03]\n",
      " [-2.06205502e-03  5.37540812e-04 -1.09262979e-03  1.51065138e-04\n",
      "  -1.23984996e-03  0.00000000e+00 -1.93394534e-03  0.00000000e+00\n",
      "  -1.03791511e-03  1.79501058e-04  0.00000000e+00 -1.14949634e-03\n",
      "   3.08491233e-04 -5.64659430e-06  0.00000000e+00  0.00000000e+00\n",
      "  -4.92524377e-04  0.00000000e+00  8.74499984e-04 -7.97780642e-04]]\n",
      "W2 relative error: 5.02e-08\n",
      "[[ 0.00000000e+00  0.00000000e+00 -3.07147530e-04  0.00000000e+00\n",
      "   1.55748974e-03 -1.51360315e-03  5.33715516e-04  0.00000000e+00\n",
      "   0.00000000e+00  0.00000000e+00  0.00000000e+00  0.00000000e+00\n",
      "  -2.72726015e-03  0.00000000e+00  0.00000000e+00  0.00000000e+00\n",
      "   0.00000000e+00  0.00000000e+00 -2.30418720e-03  0.00000000e+00\n",
      "   0.00000000e+00  0.00000000e+00  0.00000000e+00  0.00000000e+00\n",
      "   0.00000000e+00  4.16567649e-03  0.00000000e+00  0.00000000e+00\n",
      "   1.33915994e-03  1.66401093e-04]\n",
      " [ 2.43844263e-03  0.00000000e+00 -1.09229019e-03  3.71757112e-03\n",
      "   5.53039299e-03 -2.54180279e-03  1.88998794e-03 -3.55481065e-03\n",
      "   0.00000000e+00 -1.38398804e-03  0.00000000e+00  0.00000000e+00\n",
      "  -4.57990421e-03  0.00000000e+00 -3.29772853e-03  0.00000000e+00\n",
      "   0.00000000e+00  2.43196576e-03 -8.17399455e-03  0.00000000e+00\n",
      "   6.03868799e-03 -3.50336713e-03  0.00000000e+00 -5.44291276e-03\n",
      "   0.00000000e+00  6.99544538e-03  4.14836361e-03  0.00000000e+00\n",
      "   4.75357707e-03  2.79438361e-04]\n",
      " [ 6.83701213e-03  0.00000000e+00 -2.07337580e-03  1.04234885e-02\n",
      "   1.04901247e-02 -2.25193109e-03  3.58028451e-03 -9.96713356e-03\n",
      "   0.00000000e+00 -3.88048618e-03  0.00000000e+00  0.00000000e+00\n",
      "  -4.05760383e-03  0.00000000e+00 -9.24631545e-03  0.00000000e+00\n",
      "   0.00000000e+00  6.81885199e-03 -1.54974695e-02  0.00000000e+00\n",
      "   1.69315376e-02 -9.82289401e-03  0.00000000e+00 -1.52610769e-02\n",
      "   0.00000000e+00  6.19767238e-03  1.16313633e-02  0.00000000e+00\n",
      "   9.01523280e-03  2.47570719e-04]\n",
      " [ 0.00000000e+00  0.00000000e+00 -1.08229126e-03  0.00000000e+00\n",
      "   5.48810362e-03 -5.33346103e-03  1.88064546e-03  0.00000000e+00\n",
      "   0.00000000e+00  0.00000000e+00  0.00000000e+00  0.00000000e+00\n",
      "  -9.61000628e-03  0.00000000e+00  0.00000000e+00  0.00000000e+00\n",
      "   0.00000000e+00  0.00000000e+00 -8.11923031e-03  0.00000000e+00\n",
      "   0.00000000e+00  0.00000000e+00  0.00000000e+00  0.00000000e+00\n",
      "   0.00000000e+00  1.46785327e-02  0.00000000e+00  0.00000000e+00\n",
      "   4.71877799e-03  5.86345106e-04]\n",
      " [ 1.17800958e-03  0.00000000e+00 -2.78504464e-04  1.79595547e-03\n",
      "   1.40818146e-03  0.00000000e+00  4.80063500e-04 -1.71732601e-03\n",
      "   0.00000000e+00 -6.68603439e-04  0.00000000e+00  0.00000000e+00\n",
      "   0.00000000e+00  0.00000000e+00 -1.59312985e-03  0.00000000e+00\n",
      "   0.00000000e+00  1.17488062e-03 -2.07952895e-03  0.00000000e+00\n",
      "   2.91728508e-03 -1.69247372e-03  0.00000000e+00 -2.62946656e-03\n",
      "   0.00000000e+00  0.00000000e+00  2.00407095e-03  0.00000000e+00\n",
      "   1.21002708e-03  0.00000000e+00]\n",
      " [ 0.00000000e+00  0.00000000e+00  0.00000000e+00  0.00000000e+00\n",
      "   0.00000000e+00  0.00000000e+00  0.00000000e+00  0.00000000e+00\n",
      "   0.00000000e+00  0.00000000e+00  0.00000000e+00  0.00000000e+00\n",
      "   0.00000000e+00  0.00000000e+00  0.00000000e+00  0.00000000e+00\n",
      "   0.00000000e+00  0.00000000e+00  0.00000000e+00  0.00000000e+00\n",
      "   0.00000000e+00  0.00000000e+00  0.00000000e+00  0.00000000e+00\n",
      "   0.00000000e+00  0.00000000e+00  0.00000000e+00  0.00000000e+00\n",
      "   0.00000000e+00  0.00000000e+00]\n",
      " [ 1.74452455e-03  0.00000000e+00 -7.60594721e-04  2.65964595e-03\n",
      "   3.85081953e-03 -1.71568550e-03  1.31590250e-03 -2.54320294e-03\n",
      "   0.00000000e+00 -9.90140614e-04  0.00000000e+00  0.00000000e+00\n",
      "  -3.09137880e-03  0.00000000e+00 -2.35927977e-03  0.00000000e+00\n",
      "   0.00000000e+00  1.73989081e-03 -5.69141339e-03  0.00000000e+00\n",
      "   4.32023266e-03 -2.50639891e-03  0.00000000e+00 -3.89399970e-03\n",
      "   0.00000000e+00  4.72183928e-03  2.96784597e-03  0.00000000e+00\n",
      "   3.30989176e-03  1.88617455e-04]\n",
      " [ 0.00000000e+00  0.00000000e+00  0.00000000e+00  0.00000000e+00\n",
      "   0.00000000e+00  0.00000000e+00  0.00000000e+00  0.00000000e+00\n",
      "   0.00000000e+00  0.00000000e+00  0.00000000e+00  0.00000000e+00\n",
      "   0.00000000e+00  0.00000000e+00  0.00000000e+00  0.00000000e+00\n",
      "   0.00000000e+00  0.00000000e+00  0.00000000e+00  0.00000000e+00\n",
      "   0.00000000e+00  0.00000000e+00  0.00000000e+00  0.00000000e+00\n",
      "   0.00000000e+00  0.00000000e+00  0.00000000e+00  0.00000000e+00\n",
      "   0.00000000e+00  0.00000000e+00]\n",
      " [ 0.00000000e+00  0.00000000e+00 -2.86239210e-04  0.00000000e+00\n",
      "   1.45146739e-03 -1.41056824e-03  4.97384134e-04  0.00000000e+00\n",
      "   0.00000000e+00  0.00000000e+00  0.00000000e+00  0.00000000e+00\n",
      "  -2.54160850e-03  0.00000000e+00  0.00000000e+00  0.00000000e+00\n",
      "   0.00000000e+00  0.00000000e+00 -2.14733522e-03  0.00000000e+00\n",
      "   0.00000000e+00  0.00000000e+00  0.00000000e+00  0.00000000e+00\n",
      "   0.00000000e+00  3.88210815e-03  0.00000000e+00  0.00000000e+00\n",
      "   1.24799984e-03  1.55073732e-04]\n",
      " [ 3.55120244e-03  0.00000000e+00 -8.39573655e-04  5.41404888e-03\n",
      "   4.24507367e-03  0.00000000e+00  1.44718917e-03 -5.17701424e-03\n",
      "   0.00000000e+00 -2.01555761e-03  0.00000000e+00  0.00000000e+00\n",
      "   0.00000000e+00  0.00000000e+00 -4.80261515e-03  0.00000000e+00\n",
      "   0.00000000e+00  3.54176992e-03 -6.26890340e-03  0.00000000e+00\n",
      "   8.79438511e-03 -5.10209495e-03  0.00000000e+00 -7.92673354e-03\n",
      "   0.00000000e+00  0.00000000e+00  6.04142936e-03  0.00000000e+00\n",
      "   3.64772168e-03  0.00000000e+00]\n",
      " [ 0.00000000e+00  0.00000000e+00  0.00000000e+00  0.00000000e+00\n",
      "   0.00000000e+00  0.00000000e+00  0.00000000e+00  0.00000000e+00\n",
      "   0.00000000e+00  0.00000000e+00  0.00000000e+00  0.00000000e+00\n",
      "   0.00000000e+00  0.00000000e+00  0.00000000e+00  0.00000000e+00\n",
      "   0.00000000e+00  0.00000000e+00  0.00000000e+00  0.00000000e+00\n",
      "   0.00000000e+00  0.00000000e+00  0.00000000e+00  0.00000000e+00\n",
      "   0.00000000e+00  0.00000000e+00  0.00000000e+00  0.00000000e+00\n",
      "   0.00000000e+00  0.00000000e+00]\n",
      " [ 0.00000000e+00  0.00000000e+00 -3.94983579e-04  0.00000000e+00\n",
      "   2.00289050e-03 -1.94645349e-03  6.86343982e-04  0.00000000e+00\n",
      "   0.00000000e+00  0.00000000e+00  0.00000000e+00  0.00000000e+00\n",
      "  -3.50718423e-03  0.00000000e+00  0.00000000e+00  0.00000000e+00\n",
      "   0.00000000e+00  0.00000000e+00 -2.96312359e-03  0.00000000e+00\n",
      "   0.00000000e+00  0.00000000e+00  0.00000000e+00  0.00000000e+00\n",
      "   0.00000000e+00  5.35694948e-03  0.00000000e+00  0.00000000e+00\n",
      "   1.72212413e-03  2.13987406e-04]\n",
      " [ 1.51076194e-03  0.00000000e+00 -3.57173646e-04  2.30325901e-03\n",
      "   1.80595050e-03  0.00000000e+00  6.15667073e-04 -2.20241914e-03\n",
      "   0.00000000e+00 -8.57463878e-04  0.00000000e+00  0.00000000e+00\n",
      "   0.00000000e+00  0.00000000e+00 -2.04314126e-03  0.00000000e+00\n",
      "   0.00000000e+00  1.50674913e-03 -2.66693350e-03  0.00000000e+00\n",
      "   3.74133062e-03 -2.17054676e-03  0.00000000e+00 -3.37221200e-03\n",
      "   0.00000000e+00  0.00000000e+00  2.57016088e-03  0.00000000e+00\n",
      "   1.55182345e-03  0.00000000e+00]\n",
      " [ 1.38477461e-03  0.00000000e+00 -1.27204347e-03  2.11118278e-03\n",
      "   6.44552498e-03 -4.65520196e-03  2.20580738e-03 -2.01875223e-03\n",
      "   0.00000000e+00 -7.85957166e-04  0.00000000e+00  0.00000000e+00\n",
      "  -8.38789669e-03  0.00000000e+00 -1.87275708e-03  0.00000000e+00\n",
      "   0.00000000e+00  1.38109644e-03 -9.53123274e-03  0.00000000e+00\n",
      "   3.42932891e-03 -1.98953785e-03  0.00000000e+00 -3.09099228e-03\n",
      "   0.00000000e+00  1.28118559e-02  2.35582682e-03  0.00000000e+00\n",
      "   5.54110033e-03  5.11779263e-04]\n",
      " [ 0.00000000e+00  0.00000000e+00  0.00000000e+00  0.00000000e+00\n",
      "   0.00000000e+00  0.00000000e+00  0.00000000e+00  0.00000000e+00\n",
      "   0.00000000e+00  0.00000000e+00  0.00000000e+00  0.00000000e+00\n",
      "   0.00000000e+00  0.00000000e+00  0.00000000e+00  0.00000000e+00\n",
      "   0.00000000e+00  0.00000000e+00  0.00000000e+00  0.00000000e+00\n",
      "   0.00000000e+00  0.00000000e+00  0.00000000e+00  0.00000000e+00\n",
      "   0.00000000e+00  0.00000000e+00  0.00000000e+00  0.00000000e+00\n",
      "   0.00000000e+00  0.00000000e+00]\n",
      " [ 0.00000000e+00  0.00000000e+00  0.00000000e+00  0.00000000e+00\n",
      "   0.00000000e+00  0.00000000e+00  0.00000000e+00  0.00000000e+00\n",
      "   0.00000000e+00  0.00000000e+00  0.00000000e+00  0.00000000e+00\n",
      "   0.00000000e+00  0.00000000e+00  0.00000000e+00  0.00000000e+00\n",
      "   0.00000000e+00  0.00000000e+00  0.00000000e+00  0.00000000e+00\n",
      "   0.00000000e+00  0.00000000e+00  0.00000000e+00  0.00000000e+00\n",
      "   0.00000000e+00  0.00000000e+00  0.00000000e+00  0.00000000e+00\n",
      "   0.00000000e+00  0.00000000e+00]\n",
      " [ 8.37071168e-04  0.00000000e+00 -1.97899963e-04  1.27617175e-03\n",
      "   1.00062691e-03  0.00000000e+00  3.41123974e-04 -1.22029920e-03\n",
      "   0.00000000e+00 -4.75096895e-04  0.00000000e+00  0.00000000e+00\n",
      "   0.00000000e+00  0.00000000e+00 -1.13204774e-03  0.00000000e+00\n",
      "   0.00000000e+00  8.34847791e-04 -1.47767367e-03  0.00000000e+00\n",
      "   2.07296724e-03 -1.20263957e-03  0.00000000e+00 -1.86844888e-03\n",
      "   0.00000000e+00  0.00000000e+00  1.42405465e-03  0.00000000e+00\n",
      "   8.59822213e-04  0.00000000e+00]\n",
      " [ 0.00000000e+00  0.00000000e+00  0.00000000e+00  0.00000000e+00\n",
      "   0.00000000e+00  0.00000000e+00  0.00000000e+00  0.00000000e+00\n",
      "   0.00000000e+00  0.00000000e+00  0.00000000e+00  0.00000000e+00\n",
      "   0.00000000e+00  0.00000000e+00  0.00000000e+00  0.00000000e+00\n",
      "   0.00000000e+00  0.00000000e+00  0.00000000e+00  0.00000000e+00\n",
      "   0.00000000e+00  0.00000000e+00  0.00000000e+00  0.00000000e+00\n",
      "   0.00000000e+00  0.00000000e+00  0.00000000e+00  0.00000000e+00\n",
      "   0.00000000e+00  0.00000000e+00]\n",
      " [ 3.23209393e-03  0.00000000e+00 -7.64130137e-04  4.92754624e-03\n",
      "   3.86361436e-03  0.00000000e+00  1.31714579e-03 -4.71181139e-03\n",
      "   0.00000000e+00 -1.83444104e-03  0.00000000e+00  0.00000000e+00\n",
      "   0.00000000e+00  0.00000000e+00 -4.37105552e-03  0.00000000e+00\n",
      "   0.00000000e+00  3.22350895e-03 -5.70558418e-03  0.00000000e+00\n",
      "   8.00412787e-03 -4.64362429e-03  0.00000000e+00 -7.21444287e-03\n",
      "   0.00000000e+00  0.00000000e+00  5.49855077e-03  0.00000000e+00\n",
      "   3.31993999e-03  0.00000000e+00]\n",
      " [ 3.45210105e-04  0.00000000e+00 -8.16144041e-05  5.26296207e-04\n",
      "   4.12660861e-04  0.00000000e+00  1.40680312e-04 -5.03254194e-04\n",
      "   0.00000000e+00 -1.95931049e-04  0.00000000e+00  0.00000000e+00\n",
      "   0.00000000e+00  0.00000000e+00 -4.66859107e-04  0.00000000e+00\n",
      "   0.00000000e+00  3.44293150e-04 -6.09396045e-04  0.00000000e+00\n",
      "   8.54896465e-04 -4.95971331e-04  0.00000000e+00 -7.70552644e-04\n",
      "   0.00000000e+00  0.00000000e+00  5.87283422e-04  0.00000000e+00\n",
      "   3.54592666e-04  0.00000000e+00]]\n",
      "W3 relative error: 2.92e-08\n",
      "[[ 0.00102739  0.00101728  0.00101835  0.00101653  0.00102177 -0.00917398\n",
      "   0.00101287  0.00102573  0.00102329  0.00101077]\n",
      " [ 0.          0.          0.          0.          0.          0.\n",
      "   0.          0.          0.          0.        ]\n",
      " [ 0.00110569  0.00110376  0.00109881  0.00110314  0.001105   -0.00991524\n",
      "   0.00109505  0.00110708  0.00110309  0.00109364]\n",
      " [ 0.00054753  0.00054214  0.00054271  0.00054174  0.00054454 -0.00488913\n",
      "   0.00053979  0.00054665  0.00054535  0.00053867]\n",
      " [ 0.00136502  0.00136147  0.00135616  0.00136068  0.00136347 -0.01223532\n",
      "   0.00135124  0.00136632  0.00136158  0.00134938]\n",
      " [ 0.00150425  0.0015025   0.00149516  0.00150168  0.00150383 -0.01349342\n",
      "   0.00149026  0.00150645  0.00150088  0.00148842]\n",
      " [ 0.00212769  0.00211887  0.00211282  0.00211757  0.00212331 -0.01905601\n",
      "   0.00210437  0.00212855  0.00212165  0.00210117]\n",
      " [ 0.00059408  0.00058823  0.00058885  0.0005878   0.00059083 -0.00530477\n",
      "   0.00058568  0.00059312  0.00059171  0.00058447]\n",
      " [ 0.          0.          0.          0.          0.          0.\n",
      "   0.          0.          0.          0.        ]\n",
      " [ 0.00132805  0.00131498  0.00131637  0.00131401  0.00132079 -0.01185871\n",
      "   0.00130928  0.00132591  0.00132275  0.00130656]\n",
      " [ 0.          0.          0.          0.          0.          0.\n",
      "   0.          0.          0.          0.        ]\n",
      " [ 0.          0.          0.          0.          0.          0.\n",
      "   0.          0.          0.          0.        ]\n",
      " [ 0.00090214  0.00090109  0.00089669  0.0009006   0.00090189 -0.00809238\n",
      "   0.00089375  0.00090346  0.00090012  0.00089265]\n",
      " [ 0.          0.          0.          0.          0.          0.\n",
      "   0.          0.          0.          0.        ]\n",
      " [ 0.00070778  0.00070081  0.00070155  0.0007003   0.00070391 -0.00632003\n",
      "   0.00069777  0.00070664  0.00070495  0.00069633]\n",
      " [ 0.          0.          0.          0.          0.          0.\n",
      "   0.          0.          0.          0.        ]\n",
      " [ 0.          0.          0.          0.          0.          0.\n",
      "   0.          0.          0.          0.        ]\n",
      " [ 0.00028063  0.00027787  0.00027816  0.00027767  0.0002791  -0.00250589\n",
      "   0.00027667  0.00028018  0.00027951  0.00027609]\n",
      " [ 0.00172804  0.0017196   0.00171556  0.00171852  0.00172372 -0.01547067\n",
      "   0.00170839  0.00172829  0.00172288  0.00170567]\n",
      " [ 0.          0.          0.          0.          0.          0.\n",
      "   0.          0.          0.          0.        ]\n",
      " [ 0.00195264  0.00193342  0.00193545  0.00193199  0.00194196 -0.01743584\n",
      "   0.00192503  0.00194948  0.00194484  0.00192104]\n",
      " [ 0.0016947   0.00167803  0.00167979  0.00167679  0.00168544 -0.01513267\n",
      "   0.00167074  0.00169197  0.00168794  0.00166728]\n",
      " [ 0.          0.          0.          0.          0.          0.\n",
      "   0.          0.          0.          0.        ]\n",
      " [ 0.00084193  0.00083364  0.00083452  0.00083302  0.00083732 -0.00751789\n",
      "   0.00083002  0.00084057  0.00083857  0.0008283 ]\n",
      " [ 0.          0.          0.          0.          0.          0.\n",
      "   0.          0.          0.          0.        ]\n",
      " [ 0.00052984  0.00052923  0.00052665  0.00052894  0.0005297  -0.00475283\n",
      "   0.00052492  0.00053062  0.00052866  0.00052427]\n",
      " [ 0.00086833  0.00085978  0.00086069  0.00085915  0.00086358 -0.00775365\n",
      "   0.00085605  0.00086693  0.00086486  0.00085428]\n",
      " [ 0.          0.          0.          0.          0.          0.\n",
      "   0.          0.          0.          0.        ]\n",
      " [ 0.00602235  0.00597734  0.00597389  0.00597324  0.00599794 -0.05384297\n",
      "   0.00594515  0.00601768  0.00600119  0.00593419]\n",
      " [ 0.00045917  0.00045863  0.00045639  0.00045838  0.00045904 -0.00411883\n",
      "   0.0004549   0.00045984  0.00045814  0.00045434]]\n",
      "b1 relative error: 4.35e-08\n",
      "[-0.00502093  0.00014418  0.00093069  0.00036783  0.00271828  0.\n",
      "  0.0084485   0.         -0.00252723 -0.00039354  0.         -0.00279892\n",
      " -0.00067634  0.00398219  0.          0.          0.00107982  0.\n",
      " -0.00191728  0.00174907]\n",
      "b2 relative error: 2.16e-09\n",
      "[ 0.0137423   0.         -0.00648114  0.02095107  0.03281729 -0.01592804\n",
      "  0.0112167  -0.0200338   0.         -0.00779972  0.          0.\n",
      " -0.02869967  0.         -0.01858497  0.          0.          0.0137058\n",
      " -0.04850671  0.          0.03403216 -0.01974388  0.         -0.03067455\n",
      "  0.          0.04383651  0.02337888  0.          0.02820814  0.00175108]\n",
      "b3 relative error: 1.02e-10\n",
      "[ 0.10057665  0.10002221  0.09983012  0.09995801  0.1002871  -0.90013657\n",
      "  0.09939747  0.10056862  0.10026329  0.0992331 ]\n",
      "Running check with reg =  3.14\n",
      "Initial loss:  6.919668334066328\n",
      "W1 relative error: 4.28e-08\n",
      "[[ 1.15269064e-01 -1.53269752e-01 -1.11612581e-01 -1.56667731e-01\n",
      "  -3.19823891e-01  1.83722439e-01 -1.20552985e-01  4.92180735e-02\n",
      "   1.52947932e-01  2.64870685e-03  4.88494467e-02 -2.20675526e-01\n",
      "   3.08540230e-02  4.49032778e-02 -2.33321729e-01  1.82361121e-02\n",
      "  -1.24047983e-01 -1.08610984e-01 -7.05891865e-02 -1.06874989e-01]\n",
      " [-2.91475871e-01  8.96092613e-03 -7.72513759e-02  3.00198313e-01\n",
      "  -1.78371387e-01  2.08343678e-01  2.69779217e-01  1.29923957e-01\n",
      "   4.89478548e-02  2.17957201e-01  1.05860942e-01  1.73264594e-01\n",
      "  -2.14553370e-01  2.65436566e-01  4.68638026e-01 -1.25786108e-01\n",
      "   1.54962755e-01 -3.17190665e-02 -4.96780429e-01  1.23578508e-01]\n",
      " [-2.82072390e-02 -3.74226611e-01  3.56928795e-02  7.71374209e-02\n",
      "  -1.17830869e-01  4.39961805e-01 -4.73762110e-02  1.13374209e-01\n",
      "  -2.76048639e-02 -1.67158399e-01 -5.41929889e-02  8.71958797e-02\n",
      "  -2.28879385e-01 -4.70219989e-02 -1.71535469e-01 -7.25816540e-03\n",
      "   9.46872198e-02  7.92640925e-02  6.47905282e-02  3.13236809e-02]\n",
      " [-7.79209590e-02  5.69892570e-02  2.77419907e-01  4.27097562e-02\n",
      "   1.30873702e-01  5.40158206e-02  1.95504795e-01 -3.15923799e-01\n",
      "   9.97236156e-02 -3.02312555e-02 -1.56230228e-01  3.32345433e-02\n",
      "   2.01386712e-01  4.83329683e-02  8.68378963e-02 -1.18747530e-01\n",
      "   3.91066877e-02 -7.72327335e-02  2.21644640e-01 -6.48800554e-02]\n",
      " [ 1.69985372e-01 -1.38129935e-01 -1.17289157e-02 -3.12064504e-01\n",
      "   2.68006958e-01 -1.80747158e-01 -9.19271898e-02 -1.73631140e-01\n",
      "  -1.49502606e-02 -1.60607294e-01 -2.22693068e-02 -8.09445775e-02\n",
      "   4.32572893e-02 -1.18987995e-01  6.69501506e-02  8.41227759e-02\n",
      "   6.21677020e-02 -3.62134348e-01 -2.28662420e-01 -1.43310640e-01]\n",
      " [-1.11417582e-01 -4.79071654e-02 -3.15152549e-02  3.79306395e-02\n",
      "  -5.88620234e-02  5.78224340e-03 -1.49254158e-01  5.19350044e-02\n",
      "  -6.77777590e-02 -1.62986292e-01  1.56094226e-01 -1.31018749e-01\n",
      "  -9.89319557e-02 -1.24125442e-01 -4.84258551e-02 -4.51862549e-02\n",
      "  -1.80946118e-01 -4.54030609e-03  1.08406052e-01 -5.14415808e-02]\n",
      " [ 4.66436756e-02 -1.37751519e-01 -1.99154095e-01 -1.86603153e-01\n",
      "  -1.62147829e-02  2.10150628e-01  3.14154764e-01 -1.11573918e-01\n",
      "   9.32088308e-02  1.83310961e-01 -7.44865380e-02 -1.60629115e-01\n",
      "  -4.71533819e-02  1.68876307e-02 -2.26530473e-01 -3.55577394e-01\n",
      "   1.07670713e-01 -1.27355652e-01  3.70003141e-02 -4.31345442e-02]\n",
      " [ 1.46863728e-01  1.17771729e-01  4.35631046e-02  4.21396736e-02\n",
      "   1.17203914e-01  8.58340336e-02  2.11711983e-01  2.52898009e-01\n",
      "  -1.93639355e-01  1.01505358e-01 -4.08750426e-02  6.03669648e-04\n",
      "  -2.27723218e-01 -1.46873279e-02  1.12933240e-01 -9.66579715e-02\n",
      "   6.88549189e-02  6.67177850e-02 -4.59198626e-02 -2.94169716e-01]\n",
      " [ 9.06287940e-02  2.16799335e-01  4.88056684e-02  1.15481361e-01\n",
      "   1.01014943e-01 -1.66920239e-01  1.48005399e-01  1.03978313e-01\n",
      "  -2.67475601e-01 -1.22899781e-01 -1.23246021e-01 -8.24807304e-02\n",
      "   1.72501841e-01  1.54020377e-01  3.41184620e-02 -8.37249628e-02\n",
      "  -4.26517736e-02  8.80053761e-02  2.40811885e-01 -6.96517475e-03]\n",
      " [-2.01914340e-02  1.73525724e-01 -5.10045419e-02 -3.14905346e-02\n",
      "  -2.72844013e-01 -5.69211722e-03  1.62920448e-01  7.58364834e-02\n",
      "  -2.67349159e-01 -3.57363876e-02 -1.32142763e-01 -1.52981709e-01\n",
      "  -5.09915852e-02 -1.64268562e-01  9.30722136e-02 -3.81267995e-04\n",
      "   1.00801365e-01 -1.29999917e-01  2.29627736e-01  4.44128072e-02]\n",
      " [ 1.23985896e-01  2.49559573e-01  1.86924626e-01  1.47984459e-01\n",
      "   9.16581152e-02 -9.50784949e-03 -9.80544402e-02  2.35073243e-02\n",
      "  -1.53546320e-02 -3.95689493e-02  3.15689657e-01  1.64856212e-01\n",
      "   6.81821001e-02  4.24013896e-02  5.97798970e-02 -5.10733332e-02\n",
      "  -2.03704554e-01 -1.54843227e-01  2.83048515e-01 -2.59641313e-01]\n",
      " [ 1.05452265e-01  8.28969404e-02 -4.43191667e-02  6.18457228e-02\n",
      "  -8.60023559e-02 -1.64856864e-01 -2.18174778e-01 -1.64425577e-01\n",
      "   3.86540401e-02 -2.99488827e-02 -2.73749415e-01  9.33988573e-02\n",
      "  -1.19199599e-01  2.70197289e-02 -1.02465369e-01  1.08126542e-01\n",
      "  -1.29915267e-01  1.01794869e-01 -1.06703491e-01  1.87892592e-01]\n",
      " [-1.06681117e-01  2.32300715e-01  1.46382061e-02 -4.13622808e-01\n",
      "  -2.76229553e-01  1.51356582e-01 -8.77878161e-02 -9.84965751e-02\n",
      "   1.20525808e-02  2.64278810e-02 -1.04074580e-02  1.91563286e-01\n",
      "  -9.34787709e-03 -1.89695166e-03  6.53262776e-02  6.18064266e-02\n",
      "   2.84995867e-01 -1.02401073e-01  9.78708071e-02  6.91649453e-02]\n",
      " [ 5.23931620e-02  6.36465489e-02  8.45309289e-02  4.77026235e-02\n",
      "   4.33974290e-02 -1.17312665e-01  1.37883430e-01  2.04397708e-01\n",
      "   8.76416005e-02  2.01950969e-02  1.94439762e-03 -1.72465934e-01\n",
      "  -9.54240060e-02 -4.28338346e-02 -2.86314142e-01 -6.44894298e-03\n",
      "  -7.82260798e-02  7.96583878e-02 -1.04629770e-01  2.98838774e-02]\n",
      " [ 9.81386604e-02  6.07763716e-02 -7.07015867e-02  1.33281518e-02\n",
      "  -1.07391479e-01 -1.90778171e-01  1.88726295e-01  9.48246417e-02\n",
      "   2.00595752e-01  3.29244969e-01  7.03435794e-03  1.36634812e-01\n",
      "  -7.31527123e-02 -2.80760234e-01 -7.72441558e-02 -8.12243203e-02\n",
      "  -6.22562513e-02 -1.66044312e-01  2.31657332e-01  7.83716143e-02]]\n",
      "W2 relative error: 4.63e-08\n",
      "[[-3.31899087e-01  2.39480209e-01 -1.40706951e-02  1.71194441e-01\n",
      "   6.49013738e-02  9.15900293e-03 -1.51061824e-01  3.09046037e-02\n",
      "  -1.44032449e-01 -9.97401152e-02 -4.87033120e-03 -2.92412671e-01\n",
      "   1.50965167e-01 -2.97533130e-01  4.33761107e-02  1.74071017e-01\n",
      "  -5.12049394e-02  8.45558297e-02  5.43901674e-02  7.70880996e-02\n",
      "   1.40917954e-01  1.64613046e-02  8.27094326e-03  1.22149653e-01\n",
      "   2.17885216e-02  1.23699910e-01 -1.49261556e-01 -1.00193167e-02\n",
      "   8.08174265e-02 -1.00473724e-01]\n",
      " [ 1.44976398e-01  9.80323009e-02 -3.58990538e-02  1.11798799e-01\n",
      "   2.83229938e-02  7.81958625e-02  1.69767298e-02  3.46121905e-01\n",
      "  -7.73566991e-02  2.68723072e-02 -2.98916449e-01  1.27280589e-01\n",
      "   1.05415937e-02  1.61745669e-01 -1.97977190e-01 -1.40703658e-01\n",
      "  -2.65027233e-02  2.23233825e-01 -9.97395690e-02 -1.65801499e-01\n",
      "   2.93107511e-01  1.07898725e-02 -8.75187126e-02  2.63328323e-02\n",
      "   8.67773785e-02 -1.46889299e-01 -1.25322682e-01 -6.58323865e-02\n",
      "  -3.31555335e-01 -1.31473198e-01]\n",
      " [-7.01671250e-02  1.41104849e-01  1.87781960e-01  1.21627981e-01\n",
      "   5.15980325e-02 -3.35693925e-02  9.68705030e-02 -2.11630194e-01\n",
      "   1.92836930e-01 -1.76231654e-01  7.98977923e-02 -2.27630217e-01\n",
      "   6.36517766e-02 -3.36414647e-01  2.27986730e-02 -1.31256814e-01\n",
      "  -8.68793855e-02 -1.30013067e-01  1.50896742e-02  4.99441299e-02\n",
      "   2.27373447e-01 -1.09197859e-01  2.44265496e-01 -3.02255056e-02\n",
      "   6.49784186e-03  3.80968017e-03  3.51791131e-01  4.30009799e-02\n",
      "  -2.40026452e-01  2.07625657e-01]\n",
      " [ 4.65191150e-02  1.47139271e-01 -1.02178935e-01  3.03757202e-01\n",
      "  -1.86853767e-01  6.07757652e-02 -1.52283694e-01  2.78985254e-01\n",
      "  -2.34344100e-01  5.53923917e-02 -1.03455751e-01 -7.79142852e-02\n",
      "   1.38664445e-01  2.90246417e-01 -1.65085978e-01  1.17697219e-01\n",
      "   1.68869688e-01  7.05304794e-02  8.89162250e-03 -1.19161259e-02\n",
      "  -8.22311030e-02  4.05413839e-02  1.93199933e-01  2.10937461e-01\n",
      "  -1.38951844e-02  1.03494188e-01 -9.40814620e-02 -2.58828880e-01\n",
      "  -7.28630317e-02  3.00045863e-01]\n",
      " [-3.71510938e-02 -6.24834240e-02 -3.16375256e-01  1.48226538e-01\n",
      "  -2.44210228e-02  3.28469299e-02 -4.00437231e-02  1.54010826e-01\n",
      "  -2.85370594e-02  8.01007543e-02 -1.96518500e-01  9.67988587e-02\n",
      "  -4.56847530e-02 -1.91209372e-01  2.56743159e-01 -1.17210790e-01\n",
      "  -4.68276156e-02  1.23688010e-01  3.17153493e-01  4.38357554e-02\n",
      "   1.93011565e-01 -5.03656312e-02 -1.92151639e-01  1.00048268e-01\n",
      "   3.04483687e-01  7.93051300e-02 -1.04755932e-01 -1.45929886e-01\n",
      "   7.45722914e-02 -3.61404018e-01]\n",
      " [ 6.65463007e-02  9.14885141e-03  9.25426717e-02 -1.18938130e-01\n",
      "   4.95117293e-02  4.00420841e-02  2.98029502e-01 -7.17231559e-02\n",
      "  -1.05733679e-01  3.80235435e-02 -1.26922987e-01 -6.23889389e-02\n",
      "   1.99217499e-01 -2.68734520e-01 -8.27648112e-02 -1.96278629e-01\n",
      "  -6.24972313e-02 -9.20935654e-02  1.12014447e-03 -2.48416575e-01\n",
      "   3.08465852e-01 -4.46019253e-03  6.81504097e-02  5.30729333e-02\n",
      "  -9.52345627e-02  2.30780936e-01  5.10963113e-02  2.27172853e-01\n",
      "  -1.15047331e-01  3.81594259e-02]\n",
      " [ 1.90545671e-01 -6.89082769e-03 -3.91679732e-02 -9.08691797e-03\n",
      "  -7.53630010e-02  2.22225596e-01  1.42922659e-01  1.04626088e-01\n",
      "  -6.82788384e-02  2.32270238e-01  1.68113497e-01 -2.67039153e-01\n",
      "  -7.29323872e-02  1.25788357e-01 -8.60356953e-02 -5.48815362e-02\n",
      "   7.76383575e-03 -1.14888396e-01 -2.14064166e-03  5.57102817e-02\n",
      "  -1.68520586e-01  4.28721141e-02 -1.32679412e-01  1.31090568e-01\n",
      "  -3.60320059e-02  1.67569020e-01 -2.39816248e-01 -9.30359039e-02\n",
      "   1.08139099e-01  7.94970916e-02]\n",
      " [-4.11151631e-02  1.99521136e-01  1.32145458e-01  1.69033049e-01\n",
      "  -1.99630776e-01  1.56710493e-02  1.07988681e-01 -6.11150658e-02\n",
      "   1.30468425e-01 -1.82409390e-01 -1.69144028e-01  1.95699546e-01\n",
      "  -1.27985304e-01 -2.55946297e-02 -2.15338735e-02 -5.47284036e-03\n",
      "  -7.71778788e-02  1.51710608e-01  6.55562173e-02 -2.24934530e-01\n",
      "  -3.18674730e-01 -2.73544027e-02  1.91807899e-01  5.43228914e-02\n",
      "   2.07171287e-01  8.36292124e-02  1.28931339e-01 -2.66859386e-02\n",
      "   1.96289942e-01 -2.81647241e-01]\n",
      " [ 1.66198106e-01  1.30234527e-01  1.05191848e-01  7.12920366e-02\n",
      "  -1.64797634e-01 -2.14552950e-02 -1.49806594e-01  1.70927549e-01\n",
      "   6.31126478e-02  8.69204202e-03  8.40520434e-02  3.93493085e-02\n",
      "  -7.58736766e-02 -3.65428216e-01 -1.47866482e-01 -1.22369889e-01\n",
      "  -2.25467020e-01  1.56438966e-01  1.40150959e-01 -4.10504686e-01\n",
      "  -2.49463710e-02 -8.67427397e-02  2.23718451e-02 -2.37644994e-01\n",
      "   4.13246095e-02  4.97441266e-02  2.41027190e-01 -2.19177869e-01\n",
      "  -5.11110585e-02  2.68381469e-01]\n",
      " [ 8.86131000e-02 -2.86778292e-01 -3.48000845e-01 -6.47374466e-02\n",
      "  -8.66366226e-02  1.71849929e-01 -2.52527354e-02  8.36065843e-03\n",
      "  -3.97344048e-02 -6.49090582e-02 -2.18320970e-01  5.76358863e-03\n",
      "   3.04584912e-02  1.44918431e-01  3.98195163e-01 -4.49778983e-03\n",
      "  -1.64774312e-01 -1.70830026e-01  3.31165007e-01 -3.48550737e-01\n",
      "   1.26295324e-01  1.58777654e-01  5.40473290e-02 -9.92726658e-02\n",
      "  -8.73190814e-02  5.88787071e-02  4.07987777e-03  1.61579451e-01\n",
      "  -2.63629843e-02  1.55107584e-01]\n",
      " [-7.62014053e-02  2.02225330e-01 -1.46999033e-01 -1.14720134e-01\n",
      "  -2.20455875e-01  1.22580348e-01  1.53466521e-01  2.72396501e-01\n",
      "  -2.27448557e-01 -1.59908134e-02 -4.31455229e-02  2.18917234e-02\n",
      "  -8.61620939e-02  8.29444599e-02  5.35481104e-02  2.54649963e-01\n",
      "   1.25985833e-01 -4.54408621e-02 -3.21699430e-02 -3.17041921e-01\n",
      "   8.08144420e-02  5.54272325e-02 -1.88499036e-01 -1.38722480e-01\n",
      "   2.36818012e-01  8.22759677e-02  1.74144365e-01  2.45781608e-01\n",
      "   4.18830839e-02  1.37349755e-01]\n",
      " [ 2.60529414e-02  2.27012498e-01  5.54595073e-02  9.48366267e-02\n",
      "  -9.07725493e-02 -1.51923097e-01 -1.97263339e-01  2.54244092e-04\n",
      "   1.59457420e-02 -8.05180419e-02  7.08932890e-02  2.74332373e-01\n",
      "  -2.88211999e-01  6.03615797e-02 -2.23446518e-01 -2.62003901e-01\n",
      "   1.56194749e-01  2.25181177e-02 -4.23610892e-02  9.68985990e-02\n",
      "   1.66053940e-01  1.63480108e-01  4.86587901e-02  1.34839569e-01\n",
      "   3.57381632e-02  2.30810601e-02 -4.38548983e-02  8.60592140e-02\n",
      "   1.43698830e-02  2.74837913e-01]\n",
      " [-6.81886253e-02  1.76469509e-02 -3.30706013e-01  1.35343667e-01\n",
      "   1.97494069e-01 -1.79536745e-01 -1.16735987e-01 -3.11971986e-01\n",
      "  -4.04199090e-02  6.44926819e-03  1.10541890e-01  1.62342807e-01\n",
      "   3.03318232e-02 -4.52863305e-02  2.14556553e-02  3.89620185e-02\n",
      "  -6.25040962e-02 -1.41392111e-01  1.44627755e-01 -2.57654582e-01\n",
      "   2.80804227e-01  1.38134869e-01  1.15748415e-01  3.77168246e-02\n",
      "  -7.60233483e-02  1.07813226e-02  3.01561859e-01 -1.75122946e-01\n",
      "  -2.25756552e-01 -4.03264336e-02]\n",
      " [ 7.69110906e-02 -1.99860300e-01 -2.55925706e-01 -1.20389778e-01\n",
      "  -1.44007049e-01  8.78179368e-02 -2.12678381e-01  2.00691844e-02\n",
      "   8.91860684e-02  8.96118884e-02  1.41908396e-01  2.95258643e-01\n",
      "  -1.17852188e-01 -2.16397869e-01  1.93059529e-01  4.69658527e-02\n",
      "  -1.19413593e-02  2.08036667e-01 -3.69803288e-02  1.18319362e-01\n",
      "   1.83963545e-01 -1.14444756e-01 -4.81524397e-02 -1.77091511e-01\n",
      "   1.54007941e-01 -6.32312897e-02 -3.69004833e-01 -5.74830355e-02\n",
      "  -2.52634626e-01 -2.69404439e-01]\n",
      " [-1.22675350e-01 -3.62822921e-02 -1.23811811e-01 -1.77355197e-01\n",
      "  -1.32835607e-01 -1.47585377e-02 -6.07870381e-02  1.53834585e-02\n",
      "  -3.22530761e-01 -1.58441620e-01 -6.28839255e-02  4.09468494e-02\n",
      "  -1.43619358e-02  1.53738407e-01 -2.45240908e-02 -3.62858734e-02\n",
      "  -7.20662029e-02 -4.54415378e-02 -3.26950027e-01 -4.60661043e-03\n",
      "   5.18280314e-02  3.24286470e-02  6.94993846e-02 -1.29480864e-01\n",
      "   1.80157843e-01 -1.67599397e-01 -3.47168000e-02 -2.52020968e-01\n",
      "  -4.66305707e-02  1.47494428e-01]\n",
      " [ 2.22792231e-01  2.54603501e-01  6.97330431e-02 -9.29951800e-02\n",
      "   6.17858626e-02  3.77557306e-01 -6.84256424e-02  1.17065369e-02\n",
      "  -2.04458353e-01 -1.36312803e-01 -5.17838328e-02 -4.30771665e-01\n",
      "  -1.93728470e-01  2.38170851e-01  1.99205775e-02  6.23931293e-02\n",
      "  -2.69146846e-01  1.65697881e-01  2.45362757e-02 -7.96814112e-02\n",
      "   1.05625348e-01  9.94279954e-02  1.84761727e-01 -4.71228925e-01\n",
      "  -2.90649643e-01  8.89488402e-02 -2.44542899e-02 -3.56235185e-02\n",
      "  -1.12109833e-01 -2.90171604e-01]\n",
      " [-1.35677500e-01 -7.33676778e-02  1.25883405e-01 -1.09811435e-01\n",
      "   2.85367365e-01  8.03611355e-03 -1.43743975e-01 -1.14485670e-01\n",
      "   4.29480334e-02  2.41619678e-01  6.30500217e-02  1.93448282e-01\n",
      "  -1.06918379e-01  1.53066750e-01  1.11310039e-01  2.12252001e-01\n",
      "   4.49705911e-02  4.32138610e-02 -2.68391799e-01 -6.98772040e-03\n",
      "   4.56479896e-02  2.74021298e-01  1.04445759e-01 -6.07199543e-02\n",
      "  -8.02687778e-03 -1.25928742e-01 -1.40086295e-01 -3.02269110e-02\n",
      "  -2.71535967e-01  1.93404569e-02]\n",
      " [-6.42887425e-02  7.88350508e-02 -2.57582734e-01  6.90343309e-02\n",
      "   1.32923913e-01  5.87545702e-02  2.19893060e-01 -4.16945953e-02\n",
      "  -3.08552459e-01  7.21091997e-02 -3.54367438e-02  6.88959520e-02\n",
      "   2.69707389e-02  2.79532049e-02 -1.17507489e-01 -9.91720758e-02\n",
      "   1.29906159e-01 -3.94554192e-02  1.31104128e-01 -5.24523635e-02\n",
      "  -5.14153934e-02 -3.89464975e-02  1.65620179e-01  6.28656118e-02\n",
      "   7.62858301e-03  1.75353674e-02  2.93541719e-01 -1.47067880e-02\n",
      "   1.90418156e-02  6.05374514e-02]\n",
      " [ 2.61647968e-01  1.89326671e-01 -2.63821769e-01 -1.83490627e-02\n",
      "  -1.53787182e-02  1.88207617e-01 -1.60793376e-02 -8.67918284e-02\n",
      "   2.50066994e-01  8.68608133e-02  1.60543866e-02  4.45080818e-02\n",
      "  -2.52672024e-01  1.01483190e-01 -1.04621618e-01  2.03655716e-01\n",
      "  -1.47773250e-01 -2.44152047e-02 -1.04748501e-01 -3.91102464e-02\n",
      "  -7.53975011e-02 -2.04091985e-01  1.13821893e-01  3.99929148e-01\n",
      "   6.71884542e-02 -1.12303178e-01 -2.87610552e-02 -3.55905302e-01\n",
      "  -6.99244031e-02  2.08503030e-02]\n",
      " [-9.47470694e-02 -2.91227664e-01 -1.54477960e-02  1.19170399e-01\n",
      "  -2.16242485e-01 -2.35626137e-01  8.59554676e-02  2.85126369e-01\n",
      "  -4.92291378e-02  1.78655587e-01  1.88839683e-01 -2.00138103e-01\n",
      "   1.04684396e-01 -8.01109231e-02 -4.21481373e-02 -1.43709733e-01\n",
      "   1.16697631e-01 -2.40307368e-01 -1.20430235e-01 -9.68180669e-02\n",
      "  -3.22380637e-02 -5.86702713e-02  2.34741654e-01  1.30052857e-01\n",
      "   2.99828956e-01 -1.51786197e-01  9.52946825e-02 -5.91871427e-02\n",
      "   1.05066911e-01  1.19135294e-01]]\n",
      "W3 relative error: 1.30e-08\n",
      "[[ 0.08711941  0.15327392  0.04086731 -0.25369408 -0.05836531  0.08533625\n",
      "  -0.17350971  0.09559141 -0.14448002 -0.04581889]\n",
      " [-0.01218991 -0.21646011  0.07290303 -0.0500026   0.01618711  0.15991642\n",
      "  -0.22466395  0.23108277  0.30529534  0.04874303]\n",
      " [ 0.08491472 -0.20053661 -0.06269018 -0.10315785 -0.16712857 -0.05152568\n",
      "  -0.00264435 -0.23655593  0.18462727  0.15160973]\n",
      " [ 0.07747589 -0.10196966  0.21269961  0.05758969 -0.08612265  0.02374355\n",
      "  -0.1188031  -0.18040605 -0.05033877 -0.0098958 ]\n",
      " [-0.2610653  -0.01301557 -0.13103648  0.14612448  0.10554661 -0.08178153\n",
      "   0.23020022 -0.17777111 -0.05319885 -0.12361712]\n",
      " [-0.27032643 -0.00270772 -0.15270521  0.31017453  0.02747234 -0.27100127\n",
      "   0.08243874 -0.02272267  0.01520833  0.02290688]\n",
      " [ 0.07660904 -0.1027688  -0.11092869 -0.27585189  0.21875227  0.06895139\n",
      "  -0.17200089 -0.01123027 -0.11375157 -0.04865507]\n",
      " [-0.01404711  0.0807145  -0.18985837  0.00325107  0.01982457 -0.21573871\n",
      "   0.25799138 -0.05725507  0.06938211 -0.36616871]\n",
      " [ 0.093246    0.18250067 -0.00213128 -0.10208854 -0.06613503 -0.21235296\n",
      "  -0.08149665  0.46737766  0.1580512   0.2454133 ]\n",
      " [ 0.04757333 -0.0566052  -0.00347947 -0.02110357 -0.08692594 -0.0159388\n",
      "   0.02126189 -0.03370448  0.17026888  0.02463059]\n",
      " [ 0.11101603  0.14223604  0.03378417 -0.05216683  0.34043514 -0.39806549\n",
      "   0.09099237  0.08059825  0.12402999 -0.02289867]\n",
      " [ 0.26210835 -0.05085645 -0.14131363  0.04814768 -0.23135803 -0.00676386\n",
      "   0.24848375 -0.18391224 -0.30975474  0.23074083]\n",
      " [ 0.00931762 -0.453002    0.05851058 -0.13251371  0.29640061 -0.33265717\n",
      "   0.02047444  0.07364697 -0.15458781  0.0100134 ]\n",
      " [ 0.12225542  0.10195211  0.18332762 -0.04023621 -0.00845071 -0.32529947\n",
      "   0.0959535   0.04694069  0.15691578  0.21785895]\n",
      " [ 0.18407962 -0.01926269 -0.24962863  0.10323136  0.11316536  0.05219215\n",
      "  -0.21035566 -0.02831361 -0.21399214  0.13977222]\n",
      " [ 0.16119652  0.03555655 -0.07209424 -0.11459371 -0.06088778 -0.02987013\n",
      "  -0.29215718  0.01148499  0.0075933  -0.02227336]\n",
      " [ 0.27747917 -0.17996068  0.38670453 -0.10325709 -0.19163721  0.02679401\n",
      "   0.11791524  0.01999965  0.18566134 -0.16880124]\n",
      " [-0.0195626   0.0899442   0.25387084 -0.2154191  -0.08970275 -0.19765801\n",
      "   0.03227453 -0.02273005  0.21677677 -0.09114839]\n",
      " [-0.17569424  0.08949752 -0.22800936 -0.0315637  -0.29139496  0.0566636\n",
      "  -0.0037032   0.0016932   0.12286791 -0.08027111]\n",
      " [ 0.40301499  0.01406819 -0.21470895  0.06773152 -0.06978485  0.08213627\n",
      "   0.02528545 -0.07444534  0.17988489 -0.11546456]\n",
      " [-0.16800655 -0.0659544  -0.12187233  0.01530383  0.29091645  0.20823386\n",
      "   0.09594796 -0.14138429  0.02454377 -0.06394014]\n",
      " [-0.16739695 -0.05595846  0.06960421 -0.09881809 -0.11513809  0.01641728\n",
      "   0.16045608 -0.15336309 -0.03079602  0.07187691]\n",
      " [-0.23588128 -0.09697154  0.13513142  0.00108978 -0.05337474 -0.26083999\n",
      "   0.0549215  -0.17610912  0.3057911   0.08110189]\n",
      " [ 0.31131629 -0.15531996  0.15248934  0.05257285 -0.25573165 -0.01098004\n",
      "  -0.08864924  0.0042066  -0.05752616  0.03043271]\n",
      " [ 0.10859025  0.11598306  0.19178974 -0.05109263  0.1963799  -0.19777832\n",
      "  -0.25592105 -0.39604592 -0.06904809 -0.07915141]\n",
      " [-0.19467653  0.07409832 -0.0551509  -0.04708209 -0.28472036  0.17737715\n",
      "  -0.01300057  0.01368842  0.06161914  0.23096831]\n",
      " [-0.04116014  0.09482208 -0.23936237 -0.07035659 -0.11885289 -0.09786733\n",
      "  -0.04537367 -0.24824555  0.00852542  0.0481267 ]\n",
      " [ 0.29938662 -0.0311573   0.22365507  0.21501455 -0.05230691 -0.01509933\n",
      "  -0.04725461  0.02904798  0.12396578  0.09957401]\n",
      " [-0.25466832 -0.23452357 -0.00869788  0.15356755  0.06508371 -0.2274523\n",
      "   0.04887213  0.15970732  0.077044    0.19884647]\n",
      " [ 0.02264401  0.02585436 -0.05569734 -0.09324711  0.27633268  0.08549956\n",
      "   0.24058348  0.07093446 -0.226638    0.33222028]]\n",
      "b1 relative error: 1.11e-08\n",
      "[ 0.          0.00200157  0.          0.00828741  0.          0.\n",
      "  0.00126908  0.0054099  -0.00599698 -0.00708276  0.00125001 -0.00237938\n",
      " -0.00624772 -0.00877061  0.0063022   0.00175357  0.0030192   0.00193491\n",
      "  0.          0.00829687]\n",
      "b2 relative error: 3.23e-08\n",
      "[-0.0409014   0.          0.         -0.00744694  0.          0.03526251\n",
      " -0.01924716  0.04158849  0.          0.00362348  0.         -0.0061778\n",
      "  0.          0.10900434 -0.02475013  0.          0.          0.\n",
      "  0.          0.         -0.07935255 -0.03009369  0.06441523  0.00071786\n",
      "  0.03989957 -0.02946376  0.          0.          0.         -0.02168281]\n",
      "b3 relative error: 3.09e-10\n",
      "[ 0.09952487  0.10009927  0.09986911  0.09966981  0.10078273 -0.90032194\n",
      "  0.10109835  0.09887658  0.09987852  0.1005227 ]\n"
     ]
    }
   ],
   "execution_count": 30
  },
  {
   "cell_type": "markdown",
   "metadata": {
    "id": "JAwlTiUM-mvZ"
   },
   "source": [
    "As another sanity check, make sure you can overfit a small dataset of 50 images. First we will try a three-layer network with 100 units in each hidden layer. You will need to tweak the learning rate and initialization scale, but you should be able to overfit and achieve 100% training accuracy within 20 epochs."
   ]
  },
  {
   "cell_type": "code",
   "metadata": {
    "colab": {
     "base_uri": "https://localhost:8080/",
     "height": 958
    },
    "id": "x2GSa4JV-mvZ",
    "outputId": "e715ac58-c76e-4aa9-93f1-c8f4a74962f1",
    "ExecuteTime": {
     "end_time": "2025-06-03T08:55:55.844468Z",
     "start_time": "2025-06-03T08:55:55.067422Z"
    }
   },
   "source": [
    "# TODO: Use a three-layer Net to overfit 50 training examples.\n",
    "\n",
    "num_train = 50\n",
    "small_data = {\n",
    "  'X_train': data['X_train'][:num_train],\n",
    "  'y_train': data['y_train'][:num_train],\n",
    "  'X_val': data['X_val'],\n",
    "  'y_val': data['y_val'],\n",
    "}\n",
    "learning_rate = 1e-2\n",
    "weight_scale = 1e-2\n",
    "############################################################################\n",
    "############################################################################\n",
    "############################################################################\n",
    "#                             END OF YOUR CODE                             #\n",
    "############################################################################\n",
    "\n",
    "model = FullyConnectedNet([100, 100],\n",
    "              weight_scale=weight_scale, dtype=np.float64)\n",
    "solver = Solver(model, small_data,\n",
    "                print_every=10, num_epochs=20, batch_size=25,\n",
    "                update_rule='sgd',\n",
    "                optim_config={\n",
    "                  'learning_rate': learning_rate,\n",
    "                }\n",
    "         )\n",
    "solver.train()\n",
    "\n",
    "plt.plot(solver.loss_history, 'o')\n",
    "plt.title('Training loss history')\n",
    "plt.xlabel('Iteration')\n",
    "plt.ylabel('Training loss')\n",
    "plt.show()"
   ],
   "outputs": [
    {
     "name": "stdout",
     "output_type": "stream",
     "text": [
      "(Iteration 1 / 40) loss: 2.361617\n",
      "(Epoch 0 / 20) train acc: 0.220000; val_acc: 0.130000\n",
      "(Epoch 1 / 20) train acc: 0.280000; val_acc: 0.122000\n",
      "(Epoch 2 / 20) train acc: 0.440000; val_acc: 0.134000\n",
      "(Epoch 3 / 20) train acc: 0.560000; val_acc: 0.179000\n",
      "(Epoch 4 / 20) train acc: 0.520000; val_acc: 0.117000\n",
      "(Epoch 5 / 20) train acc: 0.640000; val_acc: 0.150000\n",
      "(Iteration 11 / 40) loss: 1.412103\n",
      "(Epoch 6 / 20) train acc: 0.440000; val_acc: 0.103000\n",
      "(Epoch 7 / 20) train acc: 0.800000; val_acc: 0.177000\n",
      "(Epoch 8 / 20) train acc: 0.700000; val_acc: 0.178000\n",
      "(Epoch 9 / 20) train acc: 0.840000; val_acc: 0.171000\n",
      "(Epoch 10 / 20) train acc: 0.980000; val_acc: 0.181000\n",
      "(Iteration 21 / 40) loss: 0.283875\n",
      "(Epoch 11 / 20) train acc: 0.960000; val_acc: 0.192000\n",
      "(Epoch 12 / 20) train acc: 0.980000; val_acc: 0.178000\n",
      "(Epoch 13 / 20) train acc: 1.000000; val_acc: 0.176000\n",
      "(Epoch 14 / 20) train acc: 1.000000; val_acc: 0.181000\n",
      "(Epoch 15 / 20) train acc: 0.980000; val_acc: 0.168000\n",
      "(Iteration 31 / 40) loss: 0.073963\n",
      "(Epoch 16 / 20) train acc: 1.000000; val_acc: 0.178000\n",
      "(Epoch 17 / 20) train acc: 0.960000; val_acc: 0.180000\n",
      "(Epoch 18 / 20) train acc: 0.940000; val_acc: 0.160000\n",
      "(Epoch 19 / 20) train acc: 0.940000; val_acc: 0.172000\n",
      "(Epoch 20 / 20) train acc: 1.000000; val_acc: 0.178000\n"
     ]
    },
    {
     "data": {
      "text/plain": [
       "<Figure size 1000x800 with 1 Axes>"
      ],
      "image/png": "[encoded data removed]"
     },
     "metadata": {},
     "output_type": "display_data"
    }
   ],
   "execution_count": 50
  },
  {
   "cell_type": "markdown",
   "metadata": {
    "id": "z3XtDJFd-mva"
   },
   "source": [
    "Now try to use a five-layer network with 100 units on each layer to overfit 50 training examples. Again you will have to adjust the learning rate and weight initialization, but you should be able to achieve 100% training accuracy within 20 epochs."
   ]
  },
  {
   "cell_type": "code",
   "metadata": {
    "colab": {
     "base_uri": "https://localhost:8080/",
     "height": 958
    },
    "id": "M4iY4Pv--mva",
    "outputId": "28646dc8-c8ff-4085-898a-93674ab25f4f",
    "ExecuteTime": {
     "end_time": "2025-06-03T08:59:37.374712Z",
     "start_time": "2025-06-03T08:59:36.291156Z"
    }
   },
   "source": [
    "## TODO: Use a five-layer Net to overfit 50 training examples.\n",
    "\n",
    "num_train = 50\n",
    "small_data = {\n",
    "  'X_train': data['X_train'][:num_train],\n",
    "  'y_train': data['y_train'][:num_train],\n",
    "  'X_val': data['X_val'],\n",
    "  'y_val': data['y_val'],\n",
    "}\n",
    "\n",
    "############################################################################\n",
    "# TODO: Tune these parameters to get 100% train accuracy within 20 epochs. #\n",
    "############################################################################\n",
    "weight_scale = 1e-1\n",
    "learning_rate = 1e-3\n",
    "############################################################################\n",
    "#                             END OF YOUR CODE                             #\n",
    "############################################################################\n",
    "\n",
    "model = FullyConnectedNet([100, 100, 100, 100],\n",
    "                weight_scale=weight_scale, dtype=np.float64)\n",
    "solver = Solver(model, small_data,\n",
    "                print_every=10, num_epochs=20, batch_size=25,\n",
    "                update_rule='sgd',\n",
    "                optim_config={\n",
    "                  'learning_rate': learning_rate,\n",
    "                }\n",
    "         )\n",
    "solver.train()\n",
    "\n",
    "plt.plot(solver.loss_history, 'o')\n",
    "plt.title('Training loss history')\n",
    "plt.xlabel('Iteration')\n",
    "plt.ylabel('Training loss')\n",
    "plt.show()"
   ],
   "outputs": [
    {
     "name": "stdout",
     "output_type": "stream",
     "text": [
      "(Iteration 1 / 40) loss: 65.314934\n",
      "(Epoch 0 / 20) train acc: 0.180000; val_acc: 0.115000\n",
      "(Epoch 1 / 20) train acc: 0.300000; val_acc: 0.117000\n",
      "(Epoch 2 / 20) train acc: 0.380000; val_acc: 0.114000\n",
      "(Epoch 3 / 20) train acc: 0.680000; val_acc: 0.124000\n",
      "(Epoch 4 / 20) train acc: 0.880000; val_acc: 0.125000\n",
      "(Epoch 5 / 20) train acc: 0.740000; val_acc: 0.134000\n",
      "(Iteration 11 / 40) loss: 7.708085\n",
      "(Epoch 6 / 20) train acc: 0.900000; val_acc: 0.149000\n",
      "(Epoch 7 / 20) train acc: 0.940000; val_acc: 0.147000\n",
      "(Epoch 8 / 20) train acc: 1.000000; val_acc: 0.142000\n",
      "(Epoch 9 / 20) train acc: 1.000000; val_acc: 0.142000\n",
      "(Epoch 10 / 20) train acc: 1.000000; val_acc: 0.142000\n",
      "(Iteration 21 / 40) loss: 0.000000\n",
      "(Epoch 11 / 20) train acc: 1.000000; val_acc: 0.142000\n",
      "(Epoch 12 / 20) train acc: 1.000000; val_acc: 0.142000\n",
      "(Epoch 13 / 20) train acc: 1.000000; val_acc: 0.142000\n",
      "(Epoch 14 / 20) train acc: 1.000000; val_acc: 0.142000\n",
      "(Epoch 15 / 20) train acc: 1.000000; val_acc: 0.142000\n",
      "(Iteration 31 / 40) loss: 0.000004\n",
      "(Epoch 16 / 20) train acc: 1.000000; val_acc: 0.142000\n",
      "(Epoch 17 / 20) train acc: 1.000000; val_acc: 0.142000\n",
      "(Epoch 18 / 20) train acc: 1.000000; val_acc: 0.142000\n",
      "(Epoch 19 / 20) train acc: 1.000000; val_acc: 0.142000\n",
      "(Epoch 20 / 20) train acc: 1.000000; val_acc: 0.142000\n"
     ]
    },
    {
     "data": {
      "text/plain": [
       "<Figure size 1000x800 with 1 Axes>"
      ],
      "image/png": "[encoded data removed]"
     },
     "metadata": {},
     "output_type": "display_data"
    }
   ],
   "execution_count": 61
  },
  {
   "cell_type": "markdown",
   "metadata": {
    "id": "EiokCnAV-mva"
   },
   "source": [
    "# Question: \n",
    "Did you notice anything about the comparative difficulty of training the three-layer net vs training the five layer net?\n",
    "\n",
    "**Please include your response in the written assignment submission.**\n"
   ]
  }
 ],
 "metadata": {
  "colab": {
   "provenance": []
  },
  "kernelspec": {
   "display_name": "Python 3 (ipykernel)",
   "language": "python",
   "name": "python3"
  },
  "language_info": {
   "codemirror_mode": {
    "name": "ipython",
    "version": 3
   },
   "file_extension": ".py",
   "mimetype": "text/x-python",
   "name": "python",
   "nbconvert_exporter": "python",
   "pygments_lexer": "ipython3",
   "version": "3.8.20"
  }
 },
 "nbformat": 4,
 "nbformat_minor": 4
}
